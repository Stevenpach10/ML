{
 "metadata": {
  "language_info": {
   "codemirror_mode": {
    "name": "ipython",
    "version": 3
   },
   "file_extension": ".py",
   "mimetype": "text/x-python",
   "name": "python",
   "nbconvert_exporter": "python",
   "pygments_lexer": "ipython3",
   "version": "3.9.0"
  },
  "orig_nbformat": 2,
  "kernelspec": {
   "name": "python390jvsc74a57bd063fd5069d213b44bf678585dea6b12cceca9941eaf7f819626cde1f2670de90d",
   "display_name": "Python 3.9.0 64-bit"
  },
  "metadata": {
   "interpreter": {
    "hash": "63fd5069d213b44bf678585dea6b12cceca9941eaf7f819626cde1f2670de90d"
   }
  }
 },
 "nbformat": 4,
 "nbformat_minor": 2,
 "cells": [
  {
   "cell_type": "code",
   "execution_count": 7,
   "metadata": {},
   "outputs": [],
   "source": [
    "import numpy as np\n",
    "import cv2\n",
    "from matplotlib import pyplot as plt\n",
    "from os import listdir\n",
    "from os.path import isfile, join"
   ]
  },
  {
   "source": [
    "Global variables"
   ],
   "cell_type": "markdown",
   "metadata": {}
  },
  {
   "cell_type": "code",
   "execution_count": 8,
   "metadata": {},
   "outputs": [],
   "source": [
    "COVID_FOLDER = './data/COVID'\n",
    "LUNG_OPACITY_FOLDER = './data/Lung_Opacity'\n",
    "NORMAL_FOLDER = './data/Normal'\n",
    "VIRAL_FOLDER = './data/Viral Pneumonia'\n",
    "\n",
    "OUTPUT_COVID_FOLDER = './data/MLP_OUTPUT_COVID'\n",
    "OUTPUT_LUNG_OPACITY_FOLDER = './data/MLP_OUTPUT_Lung_Opacity'\n",
    "OUTPUT_NORMAL_FOLDER = './data/MLP_OUTPUT_Normal'\n",
    "OUTPUT_VIRAL_FOLDER = './data/MLP_OUTPUT_Viral Pneumonia'\n",
    "\n",
    "FOLDERS_IN = [COVID_FOLDER, LUNG_OPACITY_FOLDER, NORMAL_FOLDER, VIRAL_FOLDER]\n",
    "FOLDERS_OUT = [OUTPUT_COVID_FOLDER, OUTPUT_LUNG_OPACITY_FOLDER, OUTPUT_NORMAL_FOLDER, OUTPUT_VIRAL_FOLDER]"
   ]
  },
  {
   "source": [
    "Misc Functions"
   ],
   "cell_type": "markdown",
   "metadata": {}
  },
  {
   "cell_type": "code",
   "execution_count": 9,
   "metadata": {},
   "outputs": [],
   "source": [
    "def getFilePaths(root):\n",
    "    onlyfiles = [ f for f in listdir(root) if isfile(join(root, f))]\n",
    "    return onlyfiles\n"
   ]
  },
  {
   "cell_type": "code",
   "execution_count": 10,
   "metadata": {},
   "outputs": [],
   "source": [
    "def createHistogram(imgPath):\n",
    "    bins=(8, 8, 8)\n",
    "    img = cv2.imread(imgPath, cv2.IMREAD_GRAYSCALE)\n",
    "    histogram = cv2.calcHist(img, [0, 1, 2], None, bins, [0, 256, 0, 256, 0, 256])\n",
    "    histogram = cv2.normalize(histogram, histogram).flatten()\n",
    "    return histogram"
   ]
  },
  {
   "cell_type": "code",
   "execution_count": 11,
   "metadata": {},
   "outputs": [],
   "source": [
    "def processFolders():\n",
    "    #Process each folder.\n",
    "    for i in range(0, len(FOLDERS_IN)):\n",
    "        #Create dir if does not exist.\n",
    "        os.makedirs(FOLDERS_OUT[i], exist_ok=True)\n",
    "        processing = 0\n",
    "        #Get all files from directory \n",
    "        files = getFilePaths(FOLDERS_IN[i])\n",
    "        print('-----------------------------')\n",
    "        print('Folder' + FOLDERS_IN[i])\n",
    "        for imgPath in files:\n",
    "            #Create the in path\n",
    "            path = FOLDERS_IN[i] +'/' + imgPath\n",
    "            #Create the output path\n",
    "            out_path = FOLDERS_OUT[i] + '/' + imgPath\n",
    "            #Delete the .png extension.\n",
    "            out_path = out_path[:-4]\n",
    "            if(processing % 500 == 0):\n",
    "                msg = \"Processing %d of %d \" % (processing, len(files))\n",
    "                print(msg)\n",
    "            #Create the histogram\n",
    "            histogram = createHistogram(path)\n",
    "            #Save the numpy\n",
    "            np.save(out_path, histogram)\n",
    "            processing = processing +1\n",
    "        msg = \"Processing %d of %d \" % (processing, len(files))\n",
    "        print(msg)"
   ]
  },
  {
   "cell_type": "code",
   "execution_count": 12,
   "metadata": {},
   "outputs": [
    {
     "output_type": "stream",
     "name": "stdout",
     "text": [
      "-----------------------------\n",
      "Folder./data/COVID\n",
      "Processing 0 of 3616 \n",
      "Processing 500 of 3616 \n",
      "Processing 1000 of 3616 \n",
      "Processing 1500 of 3616 \n",
      "Processing 2000 of 3616 \n",
      "Processing 2500 of 3616 \n",
      "Processing 3000 of 3616 \n",
      "Processing 3500 of 3616 \n",
      "Processing 3616 of 3616 \n",
      "-----------------------------\n",
      "Folder./data/Lung_Opacity\n",
      "Processing 0 of 6012 \n",
      "Processing 500 of 6012 \n",
      "Processing 1000 of 6012 \n",
      "Processing 1500 of 6012 \n",
      "Processing 2000 of 6012 \n",
      "Processing 2500 of 6012 \n",
      "Processing 3000 of 6012 \n",
      "Processing 3500 of 6012 \n",
      "Processing 4000 of 6012 \n",
      "Processing 4500 of 6012 \n",
      "Processing 5000 of 6012 \n",
      "Processing 5500 of 6012 \n",
      "Processing 6000 of 6012 \n",
      "Processing 6012 of 6012 \n",
      "-----------------------------\n",
      "Folder./data/Normal\n",
      "Processing 0 of 10192 \n",
      "Processing 500 of 10192 \n",
      "Processing 1000 of 10192 \n",
      "Processing 1500 of 10192 \n",
      "Processing 2000 of 10192 \n",
      "Processing 2500 of 10192 \n",
      "Processing 3000 of 10192 \n",
      "Processing 3500 of 10192 \n",
      "Processing 4000 of 10192 \n",
      "Processing 4500 of 10192 \n",
      "Processing 5000 of 10192 \n",
      "Processing 5500 of 10192 \n",
      "Processing 6000 of 10192 \n",
      "Processing 6500 of 10192 \n",
      "Processing 7000 of 10192 \n",
      "Processing 7500 of 10192 \n",
      "Processing 8000 of 10192 \n",
      "Processing 8500 of 10192 \n",
      "Processing 9000 of 10192 \n",
      "Processing 9500 of 10192 \n",
      "Processing 10000 of 10192 \n",
      "Processing 10192 of 10192 \n",
      "-----------------------------\n",
      "Folder./data/Viral Pneumonia\n",
      "Processing 0 of 1345 \n",
      "Processing 500 of 1345 \n",
      "Processing 1000 of 1345 \n",
      "Processing 1345 of 1345 \n"
     ]
    }
   ],
   "source": [
    "processFolders()"
   ]
  },
  {
   "cell_type": "code",
   "execution_count": null,
   "metadata": {},
   "outputs": [],
   "source": []
  }
 ]
}