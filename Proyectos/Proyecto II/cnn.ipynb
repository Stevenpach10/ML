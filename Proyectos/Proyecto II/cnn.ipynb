{
 "metadata": {
  "language_info": {
   "codemirror_mode": {
    "name": "ipython",
    "version": 3
   },
   "file_extension": ".py",
   "mimetype": "text/x-python",
   "name": "python",
   "nbconvert_exporter": "python",
   "pygments_lexer": "ipython3",
   "version": "3.8.5"
  },
  "orig_nbformat": 2,
  "kernelspec": {
   "name": "python385jvsc74a57bd009cf3d5909f3828bf53c46564821f879a9c8405e40e27fb09b54d745264e4a6d",
   "display_name": "Python 3.8.5 64-bit ('base': conda)"
  },
  "metadata": {
   "interpreter": {
    "hash": "09cf3d5909f3828bf53c46564821f879a9c8405e40e27fb09b54d745264e4a6d"
   }
  }
 },
 "nbformat": 4,
 "nbformat_minor": 2,
 "cells": [
  {
   "cell_type": "code",
   "execution_count": 1,
   "metadata": {},
   "outputs": [],
   "source": [
    "# General import of torch.\n",
    "import torch\n",
    "# Import for graph blocks of torch.\n",
    "import torch.nn as nn\n",
    "# Import the models library, to get the model to be used.\n",
    "import torchvision.models as models\n",
    "# Import optim library, to get the optimizer to be used.\n",
    "import torch.optim as optim\n",
    "# Import torchvision, to manage the input data.\n",
    "import torchvision\n",
    "# To apply transformations to the data (when loaded).\n",
    "import torchvision.transforms as transforms\n",
    "\n",
    "# General imports.\n",
    "import os\n",
    "import time\n",
    "import wandb\n",
    "import numpy as np\n",
    "import matplotlib.pyplot as plt\n",
    "\n",
    "from pathlib import Path"
   ]
  },
  {
   "source": [
    "### Enviroment configuration."
   ],
   "cell_type": "markdown",
   "metadata": {}
  },
  {
   "cell_type": "code",
   "execution_count": 2,
   "metadata": {},
   "outputs": [],
   "source": [
    "# Input size of the model.\n",
    "inputSize = 'inputSize'\n",
    "# Output size of the model.\n",
    "outputSize = 'outputSize'\n",
    "# Batch size.\n",
    "batchSize = 'batchSize'\n",
    "# Epochs amount.\n",
    "epochs = 'epochs'\n",
    "# Learning rate.\n",
    "learningRate = 'learningRate'\n",
    "# Examples to be showed when requested.\n",
    "testView = 'testView'\n",
    "# Class names.\n",
    "classes = 'classes'\n",
    "# Number of classes to classify.\n",
    "classesLen = 'classesLen'\n",
    "\n",
    "config = {\n",
    "    inputSize    : 224,\n",
    "    outputSize   : 4,\n",
    "    batchSize    : 100,\n",
    "    epochs       : 50,\n",
    "    learningRate : 0.001,\n",
    "    testView     : 8,\n",
    "    classes      : ['COVID', 'Lung Opacity', 'Normal', 'Viral Pneumonia'],\n",
    "    classesLen   : 4\n",
    "}\n",
    "\n",
    "# Device to be used, prefer cuda, if available.\n",
    "device = torch.device(\"cuda:0\" if torch.cuda.is_available() else \"cpu\")"
   ]
  },
  {
   "source": [
    "### Miscellaneous functions."
   ],
   "cell_type": "markdown",
   "metadata": {}
  },
  {
   "cell_type": "code",
   "execution_count": 3,
   "metadata": {},
   "outputs": [],
   "source": [
    "# About metrics.\n",
    "# Metric dictionary keys \n",
    "_loss            = 'Loss'\n",
    "_accuracy        = 'Accuracy'\n",
    "_accuracyClass   = 'Accuracy class'\n",
    "_groundtruth     = 'Groundtruth'\n",
    "_predictions     = 'Predictions'\n",
    "_confusionMatrix = 'Confusion matrix'\n",
    "# For torch save\n",
    "_model           = 'Model State Dic'\n",
    "_optimizer       = 'Optimizer State Dic'\n",
    "_epoch           = 'Epoch'\n",
    "_metricsTrain    = 'Resulting metrics (training)'\n",
    "_metricsTest     = 'Resulting metrics (testing)'\n",
    "\n",
    "# Get a clean dictionary for the metrics.\n",
    "def getMetricsDict():\n",
    "    return {\n",
    "        _loss            : torch.tensor(0.),\n",
    "        _accuracy        : torch.tensor(0.),\n",
    "        _accuracyClass   : torch.zeros(config[classesLen]),\n",
    "        _groundtruth     : torch.tensor([]),\n",
    "        _predictions     : torch.tensor([]),\n",
    "        _confusionMatrix : torch.zeros((config[classesLen], config[classesLen]), dtype=torch.int)\n",
    "    }\n",
    "\n",
    "# Function used to update the dictionary of resulting metrics.\n",
    "def updateRunningMetrics(outputs, groundtruth, loss, batchAmount, metricsResults):\n",
    "    # Accumulate the loss.\n",
    "    metricsResults[_loss] += loss.cpu() / batchAmount\n",
    "    # Accumulate the groundtruth and the predictions.\n",
    "    metricsResults[_groundtruth] = torch.cat((metricsResults[_groundtruth], groundtruth.cpu())) \n",
    "    metricsResults[_predictions] = torch.cat((metricsResults[_predictions], outputs.cpu()))\n",
    "    # Accumulate the confusion matrix.\n",
    "    confusionMatrix = getConfusionMatrix(outputs, groundtruth)\n",
    "    metricsResults[_confusionMatrix] += confusionMatrix\n",
    "\n",
    "# Function used to process the dictionary of resulting metrics (make final calculations).\n",
    "def processRunningMetrics(metricsResults):\n",
    "    # Get the total of samples processed by class.\n",
    "    classTotal = torch.sum(metricsResults[_confusionMatrix], 1)\n",
    "    # Get the total of samples correctly classified by class.\n",
    "    classCorrect = torch.diagonal(metricsResults[_confusionMatrix])\n",
    "\n",
    "    # Get the total accuracy, correct total samples / total samples.\n",
    "    metricsResults[_accuracy] = torch.sum(classCorrect) / torch.sum(classTotal)\n",
    "    # Get the total accuracy, by class.\n",
    "    metricsResults[_accuracyClass] = classCorrect / classTotal\n",
    "\n",
    "# This functions process an metrics result dictionary for wandb. Is necessary to indicte\n",
    "#   the metrics origin, training or testing.\n",
    "def processMetricsWandb(metricsResults, training=False):\n",
    "    # Get the prefix to log on wandb, the keys must be different.\n",
    "    resultsType = 'training' if training else 'testing'\n",
    "\n",
    "    # All the wandb keys are based in the original metrics results keys.\n",
    "    lossKey = '{} ({})'.format(_loss, resultsType)\n",
    "    accuracyKey = '{} ({})'.format(_accuracy, resultsType)\n",
    "    accuracyClassKeys = ['{} accuracy ({})'.format(_class, resultsType) for _class in config[classes]]\n",
    "    confusionMatrixKey = '{} ({})'.format(_confusionMatrix, resultsType)\n",
    "\n",
    "    # Get the predictions.\n",
    "    predictions = torch.argmax(metricsResults[_predictions], axis=1)\n",
    "\n",
    "    # Get the confusion matrix\n",
    "    confusionMatrix = wandb.plot.confusion_matrix(y_true=metricsResults[_groundtruth].tolist(),\n",
    "        preds=predictions.tolist(), class_names=config[classes], title=confusionMatrixKey)\n",
    "\n",
    "    # Make the dictionary for wandb and store the values.\n",
    "    wandbDict = {\n",
    "        lossKey            : metricsResults[_loss].item(),\n",
    "        accuracyKey        : metricsResults[_accuracy].item(),\n",
    "        confusionMatrixKey : confusionMatrix\n",
    "    }\n",
    "    for i in range(config[classesLen]):\n",
    "        wandbDict[accuracyClassKeys[i]] = metricsResults[_accuracyClass][i].item()\n",
    "\n",
    "    # Return, to log later.\n",
    "    return wandbDict\n",
    "\n",
    "# Get the metrics dictionaries for wandb and log them.\n",
    "def logMetricsWandb(trainMetricsResults, testMetricsResults):\n",
    "    # Get both dictionaries for wandb.\n",
    "    wandbTrainDict = processMetricsWandb(trainMetricsResults, training=True)\n",
    "    wandbTestDict  = processMetricsWandb(testMetricsResults, training=False)\n",
    "\n",
    "    # Merge the dictionaries.\n",
    "    wandbDict = {**wandbTrainDict, **wandbTestDict}\n",
    "\n",
    "    # Log on wandb\n",
    "    wandb.log(wandbDict)\n",
    "\n",
    "# Pretty print the metrics dictionaries.\n",
    "def printMetricsDict(metricsResults):\n",
    "    # Build accuracy by class.\n",
    "    accuracyClassStr = ''\n",
    "    for i, _class in enumerate(config[classes]):\n",
    "        accuracyClassStr += '{}: {:2.2f}%'.format(_class, metricsResults[_accuracyClass][i] * 100)\n",
    "        accuracyClassStr += ', '\n",
    "    accuracyClassStr = accuracyClassStr[:-2]\n",
    "\n",
    "    print('Loss: {:.4f}, Accuracy: {:2.2f}% ({})'.format(metricsResults[_loss], metricsResults[_accuracy] * 100, accuracyClassStr))\n",
    "\n",
    "# Function used to save the model and the metrics.\n",
    "def saveEpochData(trainMetricsResults, testMetricsResults, model, optimizer, epoch, rootPath):\n",
    "    # Create a dir for the current epoch.\n",
    "    runDir = os.path.join(os.getcwd(), rootPath, str(epoch))\n",
    "    Path(runDir).mkdir(parents=True, exist_ok=True)\n",
    "\n",
    "    # Path\n",
    "    savePath = os.path.join(runDir, 'model.pth')\n",
    "\n",
    "    # Make dict for torch.save\n",
    "    saveDict = {\n",
    "        _model     : model.state_dict(),\n",
    "        _optimizer : optimizer.state_dict(),\n",
    "        _epoch     : epoch\n",
    "    }\n",
    "\n",
    "    # Save both metrics, for train and test.\n",
    "    metricsResults = {\n",
    "        _metricsTrain : trainMetricsResults,\n",
    "        _metricsTest  : testMetricsResults\n",
    "    }\n",
    "\n",
    "    # Merge the save dict with the metricsResults dict.\n",
    "    saveDict = {**metricsResults, **saveDict}\n",
    "\n",
    "    # Save\n",
    "    torch.save(saveDict, savePath)"
   ]
  },
  {
   "source": [
    "### Loader function.\n",
    "Should return the training loader and test loader, a iterable object by batches."
   ],
   "cell_type": "markdown",
   "metadata": {}
  },
  {
   "cell_type": "code",
   "execution_count": 4,
   "metadata": {},
   "outputs": [],
   "source": [
    "# Function used to get the data loaders.\n",
    "# A folder with two folders inside called train and test is expected as a rootPath.\n",
    "def getLoaders(rootPath):\n",
    "    # Transformation definitions.\n",
    "    transformTrain = transforms.Compose([\n",
    "            transforms.RandomResizedCrop(config[inputSize]),  # This one does a resize (it cuts randomly, it doesn't keep the whole image).\n",
    "            transforms.RandomHorizontalFlip(),                # Flip the image horizontally randomly.\n",
    "            transforms.ToTensor(),                            # Make the image a tensor.\n",
    "            transforms.Normalize(\n",
    "                [0.485, 0.456, 0.406], [0.229, 0.224, 0.225]) # Expected normalization for pretrained pytorch models.\n",
    "        ])\n",
    "    transformTest = transforms.Compose([\n",
    "            transforms.Resize(config[inputSize]),             # Resize the image, keeping all pixels.\n",
    "            transforms.CenterCrop(config[inputSize]),         # Cut the image in the center.\n",
    "            transforms.ToTensor(),                            # Make the image a tensor.\n",
    "            transforms.Normalize(\n",
    "                [0.485, 0.456, 0.406], [0.229, 0.224, 0.225]) # Expected normalization for pretrained pytorch models.\n",
    "        ])\n",
    "\n",
    "    trainPath = os.path.join(rootPath, 'train')\n",
    "    testPath  = os.path.join(rootPath, 'test')\n",
    "\n",
    "    # Get the training and test data, apply the transformations.\n",
    "    trainset = torchvision.datasets.ImageFolder(root=trainPath, transform=transformTrain)\n",
    "    testset  = torchvision.datasets.ImageFolder(root=testPath,  transform=transformTest)\n",
    "\n",
    "    # Get the loaders, to iterate the data through batches.\n",
    "    trainloader = torch.utils.data.DataLoader(trainset, batch_size=config[batchSize], shuffle=True, num_workers=2)\n",
    "    testloader  = torch.utils.data.DataLoader(testset,  batch_size=config[batchSize], shuffle=True, num_workers=2)\n",
    "\n",
    "    return trainloader, testloader"
   ]
  },
  {
   "source": [
    "### Calculate the confusion matrix."
   ],
   "cell_type": "markdown",
   "metadata": {}
  },
  {
   "cell_type": "code",
   "execution_count": 5,
   "metadata": {},
   "outputs": [],
   "source": [
    "# Function to get the confusion matrix values.\n",
    "def getConfusionMatrix(outputs, groundtruth):\n",
    "    # Init the confusion matrix.\n",
    "    confusionMatrix = torch.zeros((config[classesLen], config[classesLen]), dtype=torch.int)\n",
    "\n",
    "    # Obtain the predictions (the greater number, because we use a one hot vector).\n",
    "    _, predicted = torch.max(outputs, 1)\n",
    "\n",
    "    # Iterate the predictions.\n",
    "    for i in range(predicted.shape[0]):\n",
    "        # Add 1 based on the prediction done for a specific label.\n",
    "        confusionMatrix[groundtruth[i]][predicted[i]] += 1\n",
    "\n",
    "    return confusionMatrix"
   ]
  },
  {
   "source": [
    "### Training method.\n",
    "This method takes care of a single training pass. Another function call this one multiple times."
   ],
   "cell_type": "markdown",
   "metadata": {}
  },
  {
   "cell_type": "code",
   "execution_count": 6,
   "metadata": {},
   "outputs": [],
   "source": [
    "def trainEpoch(dataloader, model, criterion, optimizer):\n",
    "    # Metrics for training.\n",
    "    metricsResults = getMetricsDict()\n",
    "\n",
    "    # Enable the grad, for training.\n",
    "    with torch.set_grad_enabled(True):\n",
    "\n",
    "        # Indicate that the model is going to be trained.\n",
    "        model.train()\n",
    "\n",
    "        # Loader len, for metrics calculation.\n",
    "        loaderLen = len(dataloader)\n",
    "\n",
    "        # Iterate the batches for training.\n",
    "        for batch in dataloader:\n",
    "            # Train the model.\n",
    "            # Get the inputs and labels, and move them to the selected device.\n",
    "            inputs, labels = batch[0].to(device), batch[1].to(device)\n",
    "            # Zero the gradient parameters.\n",
    "            optimizer.zero_grad()\n",
    "            # Get the predictions.\n",
    "            outputs = model(inputs)\n",
    "            # Calculate the error.\n",
    "            loss = criterion(outputs, labels)\n",
    "            # Calculates the derivatives of the parameters that have a gradient.\n",
    "            loss.backward()\n",
    "            # Update the parameters based on the computer gradient.\n",
    "            optimizer.step()\n",
    "            # Metrics for the training set.\n",
    "            updateRunningMetrics(outputs, labels, loss, loaderLen, metricsResults)\n",
    "\n",
    "    return metricsResults"
   ]
  },
  {
   "source": [
    "### Evaluation method.\n",
    "This method evaluates the model for a specified dataset."
   ],
   "cell_type": "markdown",
   "metadata": {}
  },
  {
   "cell_type": "code",
   "execution_count": 7,
   "metadata": {},
   "outputs": [],
   "source": [
    "def evaluate(dataloader, model, criterion):\n",
    "    # Metrics for testing.\n",
    "    metricsResults = getMetricsDict()\n",
    "\n",
    "    # Enable the grad, for training.\n",
    "    with torch.set_grad_enabled(False):\n",
    "\n",
    "        # Indicate that the model is going to be evaluated.\n",
    "        model.eval()\n",
    "\n",
    "        # Loader len, for metrics calculation.\n",
    "        loaderLen = len(dataloader)\n",
    "\n",
    "        # Iterate the batches for testing.\n",
    "        for batch in dataloader:\n",
    "            # Test the model.\n",
    "            # Get the inputs and labels, and move them to the selected device.\n",
    "            inputs, labels = batch[0].to(device), batch[1].to(device)\n",
    "            # Get the predictions.\n",
    "            outputs = model(inputs)\n",
    "            # Calculate the error.\n",
    "            loss = criterion(outputs, labels)\n",
    "            # Metrics for the testing set.\n",
    "            updateRunningMetrics(outputs, labels, loss, loaderLen, metricsResults)\n",
    "\n",
    "    return metricsResults"
   ]
  },
  {
   "source": [
    "### Trainining and evaluate method.\n",
    "For the specific purpose of this project, in each epoch we evaluate metrics for each data set (training and testing) in each epoch, this method simplifies the process. "
   ],
   "cell_type": "markdown",
   "metadata": {}
  },
  {
   "cell_type": "code",
   "execution_count": 8,
   "metadata": {},
   "outputs": [],
   "source": [
    "def trainAndEvaluate(trainloader, testloader, model, criterion, optimizer, savePath):\n",
    "\n",
    "    startTimeTotal = time.time()\n",
    "\n",
    "    for epoch in range(1, config[epochs] + 1):\n",
    "        \n",
    "        # Train the model.\n",
    "        trainMetricsResults = trainEpoch(trainloader, model, criterion, optimizer)\n",
    "        processRunningMetrics(trainMetricsResults)\n",
    "\n",
    "        # Evaluate the model.\n",
    "        testMetricsResults = evaluate(testloader, model, criterion)\n",
    "        processRunningMetrics(testMetricsResults)\n",
    "\n",
    "        # Log on wandb\n",
    "        logMetricsWandb(trainMetricsResults, testMetricsResults)\n",
    "\n",
    "        # Save model and metrics for the epochs.\n",
    "        saveEpochData(trainMetricsResults, testMetricsResults, model, optimizer, epoch, savePath)\n",
    "\n",
    "        # Print the results.\n",
    "        if epoch % 5 == 0:\n",
    "            print('**', '[', 'Epoch ', epoch, ']', '*' * 48, sep='')\n",
    "            print('\\tTraining results:', end=' ')\n",
    "            printMetricsDict(trainMetricsResults)\n",
    "            print('\\t Testing results:', end=' ')\n",
    "            printMetricsDict(testMetricsResults)\n",
    "        \n",
    "    # Print time\n",
    "    print('Epochs terminados')\n",
    "    print(\"--- %s seconds ---\" % (time.time() - startTimeTotal))"
   ]
  },
  {
   "source": [
    "### General method for execution."
   ],
   "cell_type": "markdown",
   "metadata": {}
  },
  {
   "cell_type": "code",
   "execution_count": 9,
   "metadata": {},
   "outputs": [],
   "source": [
    "def executeTest(net, dataPath, runName, savePath):\n",
    "    # Get criterion and optimizer.\n",
    "    # Optimizer and the loss funtion used to train the model.\n",
    "    criterion = nn.CrossEntropyLoss()\n",
    "    optimizer = optim.Adagrad(net.parameters(), lr=config[learningRate])\n",
    "\n",
    "    # Get the loaders.\n",
    "    trainloader, testloader = getLoaders(dataPath)\n",
    "\n",
    "    # Init wandb\n",
    "    run = wandb.init(project='CNN', entity='tecai', config=config, name=runName)\n",
    "\n",
    "    # Train and evaluate\n",
    "    trainAndEvaluate(trainloader, testloader, net, criterion, optimizer, savePath)\n",
    "\n",
    "    # Finish wandb\n",
    "    run.finish()"
   ]
  },
  {
   "source": [
    "# Experiments\n",
    "The experiments seek to explore the transfer learning, so it will focus on seeing the performance of the model in different datasets, exchanging parameters learned from other runs."
   ],
   "cell_type": "markdown",
   "metadata": {}
  },
  {
   "source": [
    "### First experiment\n",
    "For the first experiment we are going to explore the performance of resnet34 with pretrained parameters on the raw dataset."
   ],
   "cell_type": "markdown",
   "metadata": {}
  },
  {
   "cell_type": "code",
   "execution_count": 10,
   "metadata": {},
   "outputs": [
    {
     "output_type": "stream",
     "name": "stderr",
     "text": [
      "Failed to detect the name of this notebook, you can set it manually with the WANDB_NOTEBOOK_NAME environment variable to enable code saving.\n",
      "\u001b[34m\u001b[1mwandb\u001b[0m: Currently logged in as: \u001b[33mpablobrenes\u001b[0m (use `wandb login --relogin` to force relogin)\n",
      "/home/pablo/miniconda3/lib/python3.8/site-packages/IPython/html.py:12: ShimWarning: The `IPython.html` package has been deprecated since IPython 4.0. You should import from `notebook` instead. `IPython.html.widgets` has moved to `ipywidgets`.\n",
      "  warn(\"The `IPython.html` package has been deprecated since IPython 4.0. \"\n"
     ]
    },
    {
     "output_type": "display_data",
     "data": {
      "text/plain": "<IPython.core.display.HTML object>",
      "text/html": "\n                Tracking run with wandb version 0.10.30<br/>\n                Syncing run <strong style=\"color:#cdcd00\">Raw (no pretrained)</strong> to <a href=\"https://wandb.ai\" target=\"_blank\">Weights & Biases</a> <a href=\"https://docs.wandb.com/integrations/jupyter.html\" target=\"_blank\">(Documentation)</a>.<br/>\n                Project page: <a href=\"https://wandb.ai/tecai/CNN\" target=\"_blank\">https://wandb.ai/tecai/CNN</a><br/>\n                Run page: <a href=\"https://wandb.ai/tecai/CNN/runs/2cwlo67r\" target=\"_blank\">https://wandb.ai/tecai/CNN/runs/2cwlo67r</a><br/>\n                Run data is saved locally in <code>/home/pablo/Desktop/ML/Proyectos/Proyecto II/wandb/run-20210510_171727-2cwlo67r</code><br/><br/>\n            "
     },
     "metadata": {}
    },
    {
     "output_type": "stream",
     "name": "stdout",
     "text": [
      "**[Epoch 5]************************************************\n",
      "\tTraining results: Loss: 0.5010, Accuracy: 81.04% (COVID: 66.39%, Lung Opacity: 76.28%, Normal: 89.44%, Viral Pneumonia: 78.01%)\n",
      "\t Testing results: Loss: 0.6689, Accuracy: 76.09% (COVID: 34.80%, Lung Opacity: 89.72%, Normal: 82.52%, Viral Pneumonia: 77.91%)\n",
      "**[Epoch 10]************************************************\n",
      "\tTraining results: Loss: 0.4071, Accuracy: 84.76% (COVID: 75.15%, Lung Opacity: 79.73%, Normal: 91.31%, Viral Pneumonia: 83.35%)\n",
      "\t Testing results: Loss: 0.3772, Accuracy: 85.97% (COVID: 71.80%, Lung Opacity: 86.73%, Normal: 90.45%, Viral Pneumonia: 86.82%)\n",
      "**[Epoch 15]************************************************\n",
      "\tTraining results: Loss: 0.3569, Accuracy: 86.78% (COVID: 81.31%, Lung Opacity: 81.50%, Normal: 92.00%, Viral Pneumonia: 85.56%)\n",
      "\t Testing results: Loss: 0.6008, Accuracy: 79.38% (COVID: 92.43%, Lung Opacity: 88.39%, Normal: 68.32%, Viral Pneumonia: 87.98%)\n",
      "**[Epoch 20]************************************************\n",
      "\tTraining results: Loss: 0.3294, Accuracy: 87.50% (COVID: 81.27%, Lung Opacity: 83.25%, Normal: 92.31%, Viral Pneumonia: 86.75%)\n",
      "\t Testing results: Loss: 0.3322, Accuracy: 88.94% (COVID: 80.88%, Lung Opacity: 90.63%, Normal: 90.89%, Viral Pneumonia: 88.37%)\n",
      "**[Epoch 25]************************************************\n",
      "\tTraining results: Loss: 0.3135, Accuracy: 88.55% (COVID: 83.18%, Lung Opacity: 83.67%, Normal: 93.25%, Viral Pneumonia: 89.24%)\n",
      "\t Testing results: Loss: 0.3197, Accuracy: 88.35% (COVID: 83.63%, Lung Opacity: 81.67%, Normal: 95.05%, Viral Pneumonia: 79.84%)\n",
      "**[Epoch 30]************************************************\n",
      "\tTraining results: Loss: 0.3012, Accuracy: 88.72% (COVID: 84.25%, Lung Opacity: 83.44%, Normal: 93.48%, Viral Pneumonia: 88.22%)\n",
      "\t Testing results: Loss: 0.2642, Accuracy: 90.69% (COVID: 85.83%, Lung Opacity: 87.56%, Normal: 94.47%, Viral Pneumonia: 89.15%)\n",
      "**[Epoch 35]************************************************\n",
      "\tTraining results: Loss: 0.2864, Accuracy: 89.43% (COVID: 86.09%, Lung Opacity: 84.50%, Normal: 93.53%, Viral Pneumonia: 89.42%)\n",
      "\t Testing results: Loss: 0.6729, Accuracy: 78.83% (COVID: 43.47%, Lung Opacity: 73.13%, Normal: 99.02%, Viral Pneumonia: 45.35%)\n",
      "**[Epoch 40]************************************************\n",
      "\tTraining results: Loss: 0.2708, Accuracy: 89.87% (COVID: 87.19%, Lung Opacity: 84.87%, Normal: 93.79%, Viral Pneumonia: 89.60%)\n",
      "\t Testing results: Loss: 0.3557, Accuracy: 87.27% (COVID: 77.30%, Lung Opacity: 87.06%, Normal: 94.56%, Viral Pneumonia: 58.53%)\n",
      "**[Epoch 45]************************************************\n",
      "\tTraining results: Loss: 0.2592, Accuracy: 90.30% (COVID: 86.99%, Lung Opacity: 86.06%, Normal: 94.05%, Viral Pneumonia: 89.79%)\n",
      "\t Testing results: Loss: 0.2681, Accuracy: 90.76% (COVID: 86.11%, Lung Opacity: 88.14%, Normal: 93.73%, Viral Pneumonia: 92.64%)\n",
      "**[Epoch 50]************************************************\n",
      "\tTraining results: Loss: 0.2527, Accuracy: 90.49% (COVID: 87.50%, Lung Opacity: 86.08%, Normal: 94.16%, Viral Pneumonia: 90.43%)\n",
      "\t Testing results: Loss: 0.3315, Accuracy: 88.71% (COVID: 83.91%, Lung Opacity: 87.15%, Normal: 92.80%, Viral Pneumonia: 77.13%)\n",
      "Epochs terminados\n",
      "--- 2946.1439476013184 seconds ---\n"
     ]
    },
    {
     "output_type": "display_data",
     "data": {
      "text/plain": "<IPython.core.display.HTML object>",
      "text/html": "<br/>Waiting for W&B process to finish, PID 23453<br/>Program ended successfully."
     },
     "metadata": {}
    },
    {
     "output_type": "display_data",
     "data": {
      "text/plain": "<IPython.core.display.HTML object>",
      "text/html": "Find user logs for this run at: <code>/home/pablo/Desktop/ML/Proyectos/Proyecto II/wandb/run-20210510_171727-2cwlo67r/logs/debug.log</code>"
     },
     "metadata": {}
    },
    {
     "output_type": "display_data",
     "data": {
      "text/plain": "<IPython.core.display.HTML object>",
      "text/html": "Find internal logs for this run at: <code>/home/pablo/Desktop/ML/Proyectos/Proyecto II/wandb/run-20210510_171727-2cwlo67r/logs/debug-internal.log</code>"
     },
     "metadata": {}
    },
    {
     "output_type": "display_data",
     "data": {
      "text/plain": "<IPython.core.display.HTML object>",
      "text/html": "<h3>Run summary:</h3><br/><style>\n    table.wandb td:nth-child(1) { padding: 0 10px; text-align: right }\n    </style><table class=\"wandb\">\n<tr><td>Loss (training)</td><td>0.25265</td></tr><tr><td>Accuracy (training)</td><td>0.90491</td></tr><tr><td>COVID accuracy (training)</td><td>0.87504</td></tr><tr><td>Lung Opacity accuracy (training)</td><td>0.8608</td></tr><tr><td>Normal accuracy (training)</td><td>0.9416</td></tr><tr><td>Viral Pneumonia accuracy (training)</td><td>0.90432</td></tr><tr><td>Loss (testing)</td><td>0.33154</td></tr><tr><td>Accuracy (testing)</td><td>0.88708</td></tr><tr><td>COVID accuracy (testing)</td><td>0.83906</td></tr><tr><td>Lung Opacity accuracy (testing)</td><td>0.87148</td></tr><tr><td>Normal accuracy (testing)</td><td>0.92801</td></tr><tr><td>Viral Pneumonia accuracy (testing)</td><td>0.77132</td></tr><tr><td>_runtime</td><td>2941</td></tr><tr><td>_timestamp</td><td>1620691588</td></tr><tr><td>_step</td><td>49</td></tr></table>"
     },
     "metadata": {}
    },
    {
     "output_type": "display_data",
     "data": {
      "text/plain": "<IPython.core.display.HTML object>",
      "text/html": "<h3>Run history:</h3><br/><style>\n    table.wandb td:nth-child(1) { padding: 0 10px; text-align: right }\n    </style><table class=\"wandb\">\n<tr><td>Loss (training)</td><td>█▆▅▄▃▃▃▃▃▂▂▂▂▂▂▂▂▂▂▂▂▂▂▂▁▁▁▁▁▁▁▁▁▁▁▁▁▁▁▁</td></tr><tr><td>Accuracy (training)</td><td>▁▄▅▅▆▆▆▆▇▇▇▇▇▇▇▇▇▇▇▇█▇██████████████████</td></tr><tr><td>COVID accuracy (training)</td><td>▁▄▅▅▆▆▆▇▇▇▇▇▇▇▇▇▇▇▇▇████████████████████</td></tr><tr><td>Lung Opacity accuracy (training)</td><td>▁▄▄▅▅▅▆▆▆▆▆▇▇▇▇▇▇▇▇▇▇▇▇▇█▇█▇████████████</td></tr><tr><td>Normal accuracy (training)</td><td>▁▃▄▅▆▆▆▆▆▇▇▇▇▇▇▇▇▇▇▇█▇▇▇▇▇▇█████████████</td></tr><tr><td>Viral Pneumonia accuracy (training)</td><td>▁▅▅▆▆▆▇▇▇▇▇▇▇▇▇▇▇▇▇▇▇▇█▇█▇██████████████</td></tr><tr><td>Loss (testing)</td><td>▄▃▃▂▂▃▂▂▂▂▂▃▂▁▂▁▃▂▅▅▂▂▁▁▂▂▂▁▃▂▁▁▁▁▁▁█▂▂▁</td></tr><tr><td>Accuracy (testing)</td><td>▃▅▄▅▆▅▆▆▇▆▆▃▆▇▇█▅▇▃▂▆▆█▇▇▇▇█▆▆██████▁▆▆█</td></tr><tr><td>COVID accuracy (testing)</td><td>▁▂▃▄▄▂▂▃▆▂▆▆▁▆▄▇█▅██▇▇▇▇▇▂▅▇▆▇▅▇▇▅▇████▆</td></tr><tr><td>Lung Opacity accuracy (testing)</td><td>▆▇▆▄▆▃▇█▅▅▄██▇▅▇▄▇▁▃▆██▇█▇▇█▄▆▇▇██▆█▁▇▆▇</td></tr><tr><td>Normal accuracy (testing)</td><td>▄▆▅▇▇█▇▆▇█▆▁▇▇█▇▄▇▄▁▆▄▆▆▅██▇▇▅█▇▇▇▇▆▁▄▅▇</td></tr><tr><td>Viral Pneumonia accuracy (testing)</td><td>▄▁▅▆▅▁▆▇▆▅▅▆▅▅▅▇▇▇▇███▇██▆▄▇▁▆▇▇▇█▆▇▅█▇▅</td></tr><tr><td>_runtime</td><td>▁▁▁▁▂▂▂▂▂▃▃▃▃▃▃▄▄▄▄▄▅▅▅▅▅▅▆▆▆▆▆▆▇▇▇▇▇███</td></tr><tr><td>_timestamp</td><td>▁▁▁▁▂▂▂▂▂▃▃▃▃▃▃▄▄▄▄▄▅▅▅▅▅▅▆▆▆▆▆▆▇▇▇▇▇███</td></tr><tr><td>_step</td><td>▁▁▁▁▂▂▂▂▂▃▃▃▃▃▃▄▄▄▄▄▅▅▅▅▅▅▆▆▆▆▆▆▇▇▇▇▇███</td></tr></table><br/>"
     },
     "metadata": {}
    },
    {
     "output_type": "display_data",
     "data": {
      "text/plain": "<IPython.core.display.HTML object>",
      "text/html": "Synced 6 W&B file(s), 100 media file(s), 100 artifact file(s) and 0 other file(s)"
     },
     "metadata": {}
    },
    {
     "output_type": "display_data",
     "data": {
      "text/plain": "<IPython.core.display.HTML object>",
      "text/html": "\n                    <br/>Synced <strong style=\"color:#cdcd00\">Raw (no pretrained)</strong>: <a href=\"https://wandb.ai/tecai/CNN/runs/2cwlo67r\" target=\"_blank\">https://wandb.ai/tecai/CNN/runs/2cwlo67r</a><br/>\n                "
     },
     "metadata": {}
    }
   ],
   "source": [
    "# Get the model.\n",
    "# Get a predefined model from pytorch, without the pretrained parameters.\n",
    "net = models.resnet34(pretrained=False)\n",
    "# Get the input size of the las layer of the model.\n",
    "llInputSize = net.fc.in_features\n",
    "# Modify the last layer of the model, to classify the amount of required classes.\n",
    "net.fc = nn.Linear(llInputSize, config[outputSize])\n",
    "# Load the model to the selected device.\n",
    "net.to(device)\n",
    "\n",
    "# Paths of data.\n",
    "dataPath = 'data/pp/raw'\n",
    "savePath = 'runs/raw(no_pretrained)'\n",
    "\n",
    "# Run name (for wanbd).\n",
    "runName = 'Raw (no pretrained)'\n",
    "\n",
    "# Execute.\n",
    "executeTest(net, dataPath, runName, savePath)"
   ]
  },
  {
   "source": [
    "### Second experiment\n",
    "For the second experiment we are going to explore the performance of resnet34 without pretrained parameters on the raw dataset (images without preprocessing) as a control variable."
   ],
   "cell_type": "markdown",
   "metadata": {}
  },
  {
   "cell_type": "code",
   "execution_count": 12,
   "metadata": {},
   "outputs": [
    {
     "output_type": "display_data",
     "data": {
      "text/plain": "<IPython.core.display.HTML object>",
      "text/html": "\n                Tracking run with wandb version 0.10.30<br/>\n                Syncing run <strong style=\"color:#cdcd00\">Raw (pretrained)</strong> to <a href=\"https://wandb.ai\" target=\"_blank\">Weights & Biases</a> <a href=\"https://docs.wandb.com/integrations/jupyter.html\" target=\"_blank\">(Documentation)</a>.<br/>\n                Project page: <a href=\"https://wandb.ai/tecai/CNN\" target=\"_blank\">https://wandb.ai/tecai/CNN</a><br/>\n                Run page: <a href=\"https://wandb.ai/tecai/CNN/runs/13isxnfr\" target=\"_blank\">https://wandb.ai/tecai/CNN/runs/13isxnfr</a><br/>\n                Run data is saved locally in <code>/home/pablo/Desktop/ML/Proyectos/Proyecto II/wandb/run-20210510_182059-13isxnfr</code><br/><br/>\n            "
     },
     "metadata": {}
    },
    {
     "output_type": "stream",
     "name": "stdout",
     "text": [
      "**[Epoch 5]************************************************\n",
      "\tTraining results: Loss: 0.2019, Accuracy: 92.71% (COVID: 92.38%, Lung Opacity: 88.45%, Normal: 95.25%, Viral Pneumonia: 93.28%)\n",
      "\t Testing results: Loss: 0.3237, Accuracy: 89.79% (COVID: 72.63%, Lung Opacity: 89.14%, Normal: 98.14%, Viral Pneumonia: 75.19%)\n",
      "**[Epoch 10]************************************************\n",
      "\tTraining results: Loss: 0.1525, Accuracy: 94.35% (COVID: 94.60%, Lung Opacity: 90.80%, Normal: 96.29%, Viral Pneumonia: 94.85%)\n",
      "\t Testing results: Loss: 0.1858, Accuracy: 93.17% (COVID: 91.75%, Lung Opacity: 91.96%, Normal: 94.81%, Viral Pneumonia: 89.92%)\n",
      "**[Epoch 15]************************************************\n",
      "\tTraining results: Loss: 0.1353, Accuracy: 95.22% (COVID: 95.43%, Lung Opacity: 91.99%, Normal: 96.92%, Viral Pneumonia: 96.14%)\n",
      "\t Testing results: Loss: 0.1605, Accuracy: 95.04% (COVID: 95.74%, Lung Opacity: 92.04%, Normal: 97.26%, Viral Pneumonia: 89.53%)\n",
      "**[Epoch 20]************************************************\n",
      "\tTraining results: Loss: 0.1199, Accuracy: 95.55% (COVID: 96.23%, Lung Opacity: 92.88%, Normal: 96.80%, Viral Pneumonia: 96.14%)\n",
      "\t Testing results: Loss: 0.1734, Accuracy: 95.02% (COVID: 95.87%, Lung Opacity: 92.29%, Normal: 96.82%, Viral Pneumonia: 91.09%)\n",
      "**[Epoch 25]************************************************\n",
      "\tTraining results: Loss: 0.1022, Accuracy: 96.31% (COVID: 96.85%, Lung Opacity: 93.95%, Normal: 97.41%, Viral Pneumonia: 97.06%)\n",
      "\t Testing results: Loss: 0.1842, Accuracy: 94.28% (COVID: 98.49%, Lung Opacity: 90.88%, Normal: 95.05%, Viral Pneumonia: 92.25%)\n",
      "**[Epoch 30]************************************************\n",
      "\tTraining results: Loss: 0.0969, Accuracy: 96.48% (COVID: 97.13%, Lung Opacity: 94.30%, Normal: 97.56%, Viral Pneumonia: 96.32%)\n",
      "\t Testing results: Loss: 0.2085, Accuracy: 94.35% (COVID: 93.81%, Lung Opacity: 91.13%, Normal: 97.26%, Viral Pneumonia: 87.98%)\n",
      "**[Epoch 35]************************************************\n",
      "\tTraining results: Loss: 0.0820, Accuracy: 96.98% (COVID: 97.72%, Lung Opacity: 94.96%, Normal: 97.85%, Viral Pneumonia: 97.42%)\n",
      "\t Testing results: Loss: 0.2013, Accuracy: 94.66% (COVID: 93.95%, Lung Opacity: 92.04%, Normal: 96.47%, Viral Pneumonia: 94.57%)\n",
      "**[Epoch 40]************************************************\n",
      "\tTraining results: Loss: 0.0807, Accuracy: 97.09% (COVID: 97.61%, Lung Opacity: 94.80%, Normal: 98.13%, Viral Pneumonia: 97.98%)\n",
      "\t Testing results: Loss: 0.2174, Accuracy: 94.38% (COVID: 97.80%, Lung Opacity: 90.30%, Normal: 95.25%, Viral Pneumonia: 96.90%)\n",
      "**[Epoch 45]************************************************\n",
      "\tTraining results: Loss: 0.0774, Accuracy: 97.18% (COVID: 97.47%, Lung Opacity: 95.34%, Normal: 98.06%, Viral Pneumonia: 97.98%)\n",
      "\t Testing results: Loss: 0.2004, Accuracy: 95.28% (COVID: 97.39%, Lung Opacity: 91.38%, Normal: 97.11%, Viral Pneumonia: 93.02%)\n",
      "**[Epoch 50]************************************************\n",
      "\tTraining results: Loss: 0.0743, Accuracy: 97.28% (COVID: 97.33%, Lung Opacity: 95.55%, Normal: 98.13%, Viral Pneumonia: 98.34%)\n",
      "\t Testing results: Loss: 0.2439, Accuracy: 94.64% (COVID: 93.40%, Lung Opacity: 89.80%, Normal: 98.09%, Viral Pneumonia: 93.41%)\n",
      "Epochs terminados\n",
      "--- 2976.252899169922 seconds ---\n"
     ]
    },
    {
     "output_type": "display_data",
     "data": {
      "text/plain": "<IPython.core.display.HTML object>",
      "text/html": "<br/>Waiting for W&B process to finish, PID 29228<br/>Program ended successfully."
     },
     "metadata": {}
    },
    {
     "output_type": "display_data",
     "data": {
      "text/plain": "<IPython.core.display.HTML object>",
      "text/html": "Find user logs for this run at: <code>/home/pablo/Desktop/ML/Proyectos/Proyecto II/wandb/run-20210510_182059-13isxnfr/logs/debug.log</code>"
     },
     "metadata": {}
    },
    {
     "output_type": "display_data",
     "data": {
      "text/plain": "<IPython.core.display.HTML object>",
      "text/html": "Find internal logs for this run at: <code>/home/pablo/Desktop/ML/Proyectos/Proyecto II/wandb/run-20210510_182059-13isxnfr/logs/debug-internal.log</code>"
     },
     "metadata": {}
    },
    {
     "output_type": "display_data",
     "data": {
      "text/plain": "<IPython.core.display.HTML object>",
      "text/html": "<h3>Run summary:</h3><br/><style>\n    table.wandb td:nth-child(1) { padding: 0 10px; text-align: right }\n    </style><table class=\"wandb\">\n<tr><td>Loss (training)</td><td>0.07428</td></tr><tr><td>Accuracy (training)</td><td>0.97277</td></tr><tr><td>COVID accuracy (training)</td><td>0.97335</td></tr><tr><td>Lung Opacity accuracy (training)</td><td>0.95547</td></tr><tr><td>Normal accuracy (training)</td><td>0.98135</td></tr><tr><td>Viral Pneumonia accuracy (training)</td><td>0.98344</td></tr><tr><td>Loss (testing)</td><td>0.24394</td></tr><tr><td>Accuracy (testing)</td><td>0.94637</td></tr><tr><td>COVID accuracy (testing)</td><td>0.93398</td></tr><tr><td>Lung Opacity accuracy (testing)</td><td>0.89801</td></tr><tr><td>Normal accuracy (testing)</td><td>0.9809</td></tr><tr><td>Viral Pneumonia accuracy (testing)</td><td>0.93411</td></tr><tr><td>_runtime</td><td>2972</td></tr><tr><td>_timestamp</td><td>1620695431</td></tr><tr><td>_step</td><td>49</td></tr></table>"
     },
     "metadata": {}
    },
    {
     "output_type": "display_data",
     "data": {
      "text/plain": "<IPython.core.display.HTML object>",
      "text/html": "<h3>Run history:</h3><br/><style>\n    table.wandb td:nth-child(1) { padding: 0 10px; text-align: right }\n    </style><table class=\"wandb\">\n<tr><td>Loss (training)</td><td>█▅▄▄▃▃▃▃▂▂▂▂▂▂▂▂▂▂▂▂▁▁▁▁▁▁▁▁▁▁▁▁▁▁▁▁▁▁▁▁</td></tr><tr><td>Accuracy (training)</td><td>▁▄▅▆▆▆▆▆▇▇▇▇▇▇▇▇▇▇▇▇██▇█████████████████</td></tr><tr><td>COVID accuracy (training)</td><td>▁▅▆▆▇▇▇▇▇▇▇▇▇▇▇█████████████████████████</td></tr><tr><td>Lung Opacity accuracy (training)</td><td>▁▄▅▅▅▆▆▆▆▆▆▆▆▇▇▇▇▇▇▇▇▇▇▇█▇▇█████████████</td></tr><tr><td>Normal accuracy (training)</td><td>▁▄▅▅▆▆▆▆▆▇▆▇▇▇▇▇█▇▇▇██▇▇█▇▇█████████████</td></tr><tr><td>Viral Pneumonia accuracy (training)</td><td>▁▅▅▆▆▇▇▇▇▇▇▇▇▇▇▇▇▇▇▇█▇▇██▇██████████████</td></tr><tr><td>Loss (testing)</td><td>▂▁▃▂▂▂▃█▂▂▁█▁▁▂▁▃▁▁▁▂▂▁▂▃▂▂▂▂▂▂▂▂▂▂▂▃▂▂▂</td></tr><tr><td>Accuracy (testing)</td><td>▇▇▆▆▇▆▆▁█▇█▂██▇█▆███████▇▇███████▇██████</td></tr><tr><td>COVID accuracy (testing)</td><td>▂▄▅▃▁█▅█▆█▆█▆▇▄▇▆▇▇▆█▇▇▅▃▇▆▆▇▇▇▇▆▅▆▇▆▆▇▅</td></tr><tr><td>Lung Opacity accuracy (testing)</td><td>▆▆▃▆▇▆▆▁▆▇█▃▇▇▇██▇▆▇▇▆▇▇▇█▇▇▇▇▆▆▇▇▇▇▆▇▇▆</td></tr><tr><td>Normal accuracy (testing)</td><td>▇▇▇█▇▅█▁█▆▆▁▇▇▇▆▄▇▇▇▇█▇▇█▆▇▇▇▇███▇▇▇█▇▇█</td></tr><tr><td>Viral Pneumonia accuracy (testing)</td><td>▆▇▇▃▇▇▁▇▆▇▇▇▇▇▆▇█▇▇▇▇▆▇▇▆▇▇▇▇▇▆▇▇▆▇▇▆▇▇▇</td></tr><tr><td>_runtime</td><td>▁▁▁▁▂▂▂▂▂▃▃▃▃▃▃▄▄▄▄▄▅▅▅▅▅▅▆▆▆▆▆▆▇▇▇▇▇███</td></tr><tr><td>_timestamp</td><td>▁▁▁▁▂▂▂▂▂▃▃▃▃▃▃▄▄▄▄▄▅▅▅▅▅▅▆▆▆▆▆▆▇▇▇▇▇███</td></tr><tr><td>_step</td><td>▁▁▁▁▂▂▂▂▂▃▃▃▃▃▃▄▄▄▄▄▅▅▅▅▅▅▆▆▆▆▆▆▇▇▇▇▇███</td></tr></table><br/>"
     },
     "metadata": {}
    },
    {
     "output_type": "display_data",
     "data": {
      "text/plain": "<IPython.core.display.HTML object>",
      "text/html": "Synced 6 W&B file(s), 100 media file(s), 100 artifact file(s) and 0 other file(s)"
     },
     "metadata": {}
    },
    {
     "output_type": "display_data",
     "data": {
      "text/plain": "<IPython.core.display.HTML object>",
      "text/html": "\n                    <br/>Synced <strong style=\"color:#cdcd00\">Raw (pretrained)</strong>: <a href=\"https://wandb.ai/tecai/CNN/runs/13isxnfr\" target=\"_blank\">https://wandb.ai/tecai/CNN/runs/13isxnfr</a><br/>\n                "
     },
     "metadata": {}
    }
   ],
   "source": [
    "# Get the model.\n",
    "# Get a predefined model from pytorch, without the pretrained parameters.\n",
    "net = models.resnet34(pretrained=True)\n",
    "# Get the input size of the las layer of the model.\n",
    "llInputSize = net.fc.in_features\n",
    "# Modify the last layer of the model, to classify the amount of required classes.\n",
    "net.fc = nn.Linear(llInputSize, config[outputSize])\n",
    "# Load the model to the selected device.\n",
    "net.to(device)\n",
    "\n",
    "# Paths of data.\n",
    "dataPath = 'data/pp/raw'\n",
    "savePath = 'runs/raw(pretrained)'\n",
    "\n",
    "# Run name (for wanbd).\n",
    "runName = 'Raw (pretrained)'\n",
    "\n",
    "# Execute.\n",
    "executeTest(net, dataPath, runName, savePath)"
   ]
  },
  {
   "source": [
    "### Third experiment\n",
    "For the third experiment we are going to explore the performance of resnet34 with pretrained parameters on the bilateral filter dataset."
   ],
   "cell_type": "markdown",
   "metadata": {}
  },
  {
   "cell_type": "code",
   "execution_count": 13,
   "metadata": {},
   "outputs": [
    {
     "output_type": "display_data",
     "data": {
      "text/plain": "<IPython.core.display.HTML object>",
      "text/html": "\n                Tracking run with wandb version 0.10.30<br/>\n                Syncing run <strong style=\"color:#cdcd00\">BF (pretrained)</strong> to <a href=\"https://wandb.ai\" target=\"_blank\">Weights & Biases</a> <a href=\"https://docs.wandb.com/integrations/jupyter.html\" target=\"_blank\">(Documentation)</a>.<br/>\n                Project page: <a href=\"https://wandb.ai/tecai/CNN\" target=\"_blank\">https://wandb.ai/tecai/CNN</a><br/>\n                Run page: <a href=\"https://wandb.ai/tecai/CNN/runs/phhgass6\" target=\"_blank\">https://wandb.ai/tecai/CNN/runs/phhgass6</a><br/>\n                Run data is saved locally in <code>/home/pablo/Desktop/ML/Proyectos/Proyecto II/wandb/run-20210510_191445-phhgass6</code><br/><br/>\n            "
     },
     "metadata": {}
    },
    {
     "output_type": "stream",
     "name": "stdout",
     "text": [
      "**[Epoch 5]************************************************\n",
      "\tTraining results: Loss: 0.2716, Accuracy: 90.24% (COVID: 85.70%, Lung Opacity: 86.54%, Normal: 94.05%, Viral Pneumonia: 90.06%)\n",
      "\t Testing results: Loss: 0.2560, Accuracy: 91.05% (COVID: 82.94%, Lung Opacity: 88.31%, Normal: 95.35%, Viral Pneumonia: 92.64%)\n",
      "**[Epoch 10]************************************************\n",
      "\tTraining results: Loss: 0.2129, Accuracy: 92.23% (COVID: 90.00%, Lung Opacity: 88.12%, Normal: 95.24%, Viral Pneumonia: 93.74%)\n",
      "\t Testing results: Loss: 0.1956, Accuracy: 93.27% (COVID: 92.43%, Lung Opacity: 91.38%, Normal: 95.25%, Viral Pneumonia: 88.76%)\n",
      "**[Epoch 15]************************************************\n",
      "\tTraining results: Loss: 0.1861, Accuracy: 93.03% (COVID: 91.97%, Lung Opacity: 88.76%, Normal: 95.68%, Viral Pneumonia: 94.76%)\n",
      "\t Testing results: Loss: 0.2166, Accuracy: 92.96% (COVID: 88.86%, Lung Opacity: 89.80%, Normal: 96.52%, Viral Pneumonia: 91.09%)\n",
      "**[Epoch 20]************************************************\n",
      "\tTraining results: Loss: 0.1671, Accuracy: 93.72% (COVID: 93.08%, Lung Opacity: 90.37%, Normal: 95.71%, Viral Pneumonia: 95.31%)\n",
      "\t Testing results: Loss: 0.2182, Accuracy: 92.87% (COVID: 94.09%, Lung Opacity: 92.79%, Normal: 92.51%, Viral Pneumonia: 92.64%)\n",
      "**[Epoch 25]************************************************\n",
      "\tTraining results: Loss: 0.1509, Accuracy: 94.47% (COVID: 93.70%, Lung Opacity: 91.20%, Normal: 96.47%, Viral Pneumonia: 96.04%)\n",
      "\t Testing results: Loss: 0.2376, Accuracy: 92.84% (COVID: 92.16%, Lung Opacity: 91.63%, Normal: 95.05%, Viral Pneumonia: 82.95%)\n",
      "**[Epoch 30]************************************************\n",
      "\tTraining results: Loss: 0.1299, Accuracy: 95.46% (COVID: 95.12%, Lung Opacity: 92.70%, Normal: 97.17%, Viral Pneumonia: 95.86%)\n",
      "\t Testing results: Loss: 0.2247, Accuracy: 92.98% (COVID: 95.87%, Lung Opacity: 90.38%, Normal: 93.00%, Viral Pneumonia: 96.90%)\n",
      "**[Epoch 35]************************************************\n",
      "\tTraining results: Loss: 0.1246, Accuracy: 95.49% (COVID: 95.08%, Lung Opacity: 93.03%, Normal: 96.99%, Viral Pneumonia: 96.14%)\n",
      "\t Testing results: Loss: 0.2189, Accuracy: 93.72% (COVID: 98.21%, Lung Opacity: 90.22%, Normal: 94.27%, Viral Pneumonia: 93.02%)\n",
      "**[Epoch 40]************************************************\n",
      "\tTraining results: Loss: 0.1154, Accuracy: 95.81% (COVID: 95.40%, Lung Opacity: 93.80%, Normal: 97.14%, Viral Pneumonia: 95.77%)\n",
      "\t Testing results: Loss: 0.2488, Accuracy: 92.82% (COVID: 95.46%, Lung Opacity: 92.45%, Normal: 92.41%, Viral Pneumonia: 90.31%)\n",
      "**[Epoch 45]************************************************\n",
      "\tTraining results: Loss: 0.1075, Accuracy: 96.03% (COVID: 96.23%, Lung Opacity: 93.57%, Normal: 97.39%, Viral Pneumonia: 96.23%)\n",
      "\t Testing results: Loss: 0.3444, Accuracy: 92.39% (COVID: 92.71%, Lung Opacity: 83.33%, Normal: 98.38%, Viral Pneumonia: 86.43%)\n",
      "**[Epoch 50]************************************************\n",
      "\tTraining results: Loss: 0.1064, Accuracy: 96.05% (COVID: 95.36%, Lung Opacity: 93.95%, Normal: 97.50%, Viral Pneumonia: 96.32%)\n",
      "\t Testing results: Loss: 0.2562, Accuracy: 93.55% (COVID: 95.05%, Lung Opacity: 89.97%, Normal: 95.40%, Viral Pneumonia: 91.47%)\n",
      "Epochs terminados\n",
      "--- 2795.042133331299 seconds ---\n"
     ]
    },
    {
     "output_type": "display_data",
     "data": {
      "text/plain": "<IPython.core.display.HTML object>",
      "text/html": "<br/>Waiting for W&B process to finish, PID 35032<br/>Program ended successfully."
     },
     "metadata": {}
    },
    {
     "output_type": "display_data",
     "data": {
      "text/plain": "<IPython.core.display.HTML object>",
      "text/html": "Find user logs for this run at: <code>/home/pablo/Desktop/ML/Proyectos/Proyecto II/wandb/run-20210510_191445-phhgass6/logs/debug.log</code>"
     },
     "metadata": {}
    },
    {
     "output_type": "display_data",
     "data": {
      "text/plain": "<IPython.core.display.HTML object>",
      "text/html": "Find internal logs for this run at: <code>/home/pablo/Desktop/ML/Proyectos/Proyecto II/wandb/run-20210510_191445-phhgass6/logs/debug-internal.log</code>"
     },
     "metadata": {}
    },
    {
     "output_type": "display_data",
     "data": {
      "text/plain": "<IPython.core.display.HTML object>",
      "text/html": "<h3>Run summary:</h3><br/><style>\n    table.wandb td:nth-child(1) { padding: 0 10px; text-align: right }\n    </style><table class=\"wandb\">\n<tr><td>Loss (training)</td><td>0.10637</td></tr><tr><td>Accuracy (training)</td><td>0.96049</td></tr><tr><td>COVID accuracy (training)</td><td>0.95362</td></tr><tr><td>Lung Opacity accuracy (training)</td><td>0.93945</td></tr><tr><td>Normal accuracy (training)</td><td>0.97497</td></tr><tr><td>Viral Pneumonia accuracy (training)</td><td>0.9632</td></tr><tr><td>Loss (testing)</td><td>0.25623</td></tr><tr><td>Accuracy (testing)</td><td>0.93551</td></tr><tr><td>COVID accuracy (testing)</td><td>0.95048</td></tr><tr><td>Lung Opacity accuracy (testing)</td><td>0.89967</td></tr><tr><td>Normal accuracy (testing)</td><td>0.95397</td></tr><tr><td>Viral Pneumonia accuracy (testing)</td><td>0.91473</td></tr><tr><td>_runtime</td><td>2791</td></tr><tr><td>_timestamp</td><td>1620698476</td></tr><tr><td>_step</td><td>49</td></tr></table>"
     },
     "metadata": {}
    },
    {
     "output_type": "display_data",
     "data": {
      "text/plain": "<IPython.core.display.HTML object>",
      "text/html": "<h3>Run history:</h3><br/><style>\n    table.wandb td:nth-child(1) { padding: 0 10px; text-align: right }\n    </style><table class=\"wandb\">\n<tr><td>Loss (training)</td><td>█▅▄▄▃▃▃▃▂▂▂▂▂▂▂▂▂▂▂▂▂▂▂▂▁▁▁▁▁▁▁▁▁▁▁▁▁▁▁▁</td></tr><tr><td>Accuracy (training)</td><td>▁▄▅▅▆▆▆▆▇▇▇▇▇▇▇▇▇▇▇▇▇▇▇▇████████████████</td></tr><tr><td>COVID accuracy (training)</td><td>▁▄▅▆▆▇▇▇▇▇▇▇▇▇▇█▇███████████████████████</td></tr><tr><td>Lung Opacity accuracy (training)</td><td>▁▃▄▄▅▅▆▆▆▆▆▆▆▆▇▇▇▇▇▇▇▇▇▇▇█▇▇▇███████████</td></tr><tr><td>Normal accuracy (training)</td><td>▁▅▅▅▆▆▆▆▇▇▇▇▇▇▇▇▇▇▇▇▇▇▇▇██▇▇████████████</td></tr><tr><td>Viral Pneumonia accuracy (training)</td><td>▁▄▅▆▇▇▆▇▇▇▇▇▇▇▇▇▇▇██████████████████████</td></tr><tr><td>Loss (testing)</td><td>█▄▂▃▁▂▃▂▂▁▂▂▁▂▂▁▁▂▂▁▂▃▁▃▃▃▃▂▂▃▂▃▃▄▃▃▃▄▃▃</td></tr><tr><td>Accuracy (testing)</td><td>▁▅▆▆▇▇▆▇▇█▇▇█▇▇█████▇▆█▆▇▇█▇█▇███▇▇▇▇▇██</td></tr><tr><td>COVID accuracy (testing)</td><td>▁▆▆▆▇▆▅▆▇▇▇▇██▇▇█▇███▇█▇█▇█▇█▇█▇▇██▇▇▇▇█</td></tr><tr><td>Lung Opacity accuracy (testing)</td><td>▁▄▅▆▆▇▆▆▆▇▇▆▇█▇▆▇▇▆▆▇█▇▇█▇▇▇▆▆▇▇▇▇▇▇▇█▆▇</td></tr><tr><td>Normal accuracy (testing)</td><td>█▅▆▅▅▆▇▆▇▅▆▆▅▃▅▆▅▆▆▆▄▁▆▃▂▄▅▃▆▇▅▅▆▃▅▅▅▃▆▆</td></tr><tr><td>Viral Pneumonia accuracy (testing)</td><td>▁▆▇▄▇▅▄▆▃▇▄▆▇▇▇▇▇▆▆▇█▇▆▆▇▇▆▇▆▆▆▆▅▅▆▆▆▅▆▆</td></tr><tr><td>_runtime</td><td>▁▁▁▁▂▂▂▂▂▃▃▃▃▃▄▄▄▄▄▄▅▅▅▅▅▆▆▆▆▆▆▆▇▇▇▇▇███</td></tr><tr><td>_timestamp</td><td>▁▁▁▁▂▂▂▂▂▃▃▃▃▃▄▄▄▄▄▄▅▅▅▅▅▆▆▆▆▆▆▆▇▇▇▇▇███</td></tr><tr><td>_step</td><td>▁▁▁▁▂▂▂▂▂▃▃▃▃▃▃▄▄▄▄▄▅▅▅▅▅▅▆▆▆▆▆▆▇▇▇▇▇███</td></tr></table><br/>"
     },
     "metadata": {}
    },
    {
     "output_type": "display_data",
     "data": {
      "text/plain": "<IPython.core.display.HTML object>",
      "text/html": "Synced 6 W&B file(s), 100 media file(s), 100 artifact file(s) and 0 other file(s)"
     },
     "metadata": {}
    },
    {
     "output_type": "display_data",
     "data": {
      "text/plain": "<IPython.core.display.HTML object>",
      "text/html": "\n                    <br/>Synced <strong style=\"color:#cdcd00\">BF (pretrained)</strong>: <a href=\"https://wandb.ai/tecai/CNN/runs/phhgass6\" target=\"_blank\">https://wandb.ai/tecai/CNN/runs/phhgass6</a><br/>\n                "
     },
     "metadata": {}
    }
   ],
   "source": [
    "# Get the model.\n",
    "# Get a predefined model from pytorch, without the pretrained parameters.\n",
    "net = models.resnet34(pretrained=True)\n",
    "# Get the input size of the las layer of the model.\n",
    "llInputSize = net.fc.in_features\n",
    "# Modify the last layer of the model, to classify the amount of required classes.\n",
    "net.fc = nn.Linear(llInputSize, config[outputSize])\n",
    "# Load the model to the selected device.\n",
    "net.to(device)\n",
    "\n",
    "# Paths of data.\n",
    "dataPath = 'data/pp/bf'\n",
    "savePath = 'runs/bf(pretrained)'\n",
    "\n",
    "# Run name (for wanbd).\n",
    "runName = 'BF (pretrained)'\n",
    "\n",
    "# Execute.\n",
    "executeTest(net, dataPath, runName, savePath)"
   ]
  },
  {
   "source": [
    "### Fourth experiment\n",
    "For the fourth experiment we are going to explore the performance of resnet34 without pretrained parameters on the bilateral filter dataset (images without preprocessing) as a control variable."
   ],
   "cell_type": "markdown",
   "metadata": {}
  },
  {
   "cell_type": "code",
   "execution_count": 14,
   "metadata": {},
   "outputs": [
    {
     "output_type": "display_data",
     "data": {
      "text/plain": "<IPython.core.display.HTML object>",
      "text/html": "\n                Tracking run with wandb version 0.10.30<br/>\n                Syncing run <strong style=\"color:#cdcd00\">BF (no pretrained)</strong> to <a href=\"https://wandb.ai\" target=\"_blank\">Weights & Biases</a> <a href=\"https://docs.wandb.com/integrations/jupyter.html\" target=\"_blank\">(Documentation)</a>.<br/>\n                Project page: <a href=\"https://wandb.ai/tecai/CNN\" target=\"_blank\">https://wandb.ai/tecai/CNN</a><br/>\n                Run page: <a href=\"https://wandb.ai/tecai/CNN/runs/27nj0esa\" target=\"_blank\">https://wandb.ai/tecai/CNN/runs/27nj0esa</a><br/>\n                Run data is saved locally in <code>/home/pablo/Desktop/ML/Proyectos/Proyecto II/wandb/run-20210510_200937-27nj0esa</code><br/><br/>\n            "
     },
     "metadata": {}
    },
    {
     "output_type": "stream",
     "name": "stdout",
     "text": [
      "**[Epoch 5]************************************************\n",
      "\tTraining results: Loss: 0.5593, Accuracy: 78.31% (COVID: 58.67%, Lung Opacity: 73.64%, Normal: 88.15%, Viral Pneumonia: 77.37%)\n",
      "\t Testing results: Loss: 0.7770, Accuracy: 74.84% (COVID: 38.65%, Lung Opacity: 64.76%, Normal: 96.62%, Viral Pneumonia: 51.55%)\n",
      "**[Epoch 10]************************************************\n",
      "\tTraining results: Loss: 0.4590, Accuracy: 82.49% (COVID: 69.64%, Lung Opacity: 77.26%, Normal: 90.18%, Viral Pneumonia: 82.15%)\n",
      "\t Testing results: Loss: 0.5124, Accuracy: 81.79% (COVID: 61.07%, Lung Opacity: 93.28%, Normal: 82.03%, Viral Pneumonia: 84.50%)\n",
      "**[Epoch 15]************************************************\n",
      "\tTraining results: Loss: 0.4054, Accuracy: 84.66% (COVID: 76.39%, Lung Opacity: 79.28%, Normal: 90.85%, Viral Pneumonia: 84.08%)\n",
      "\t Testing results: Loss: 0.3698, Accuracy: 85.61% (COVID: 72.08%, Lung Opacity: 86.57%, Normal: 89.62%, Viral Pneumonia: 87.60%)\n",
      "**[Epoch 20]************************************************\n",
      "\tTraining results: Loss: 0.3778, Accuracy: 85.62% (COVID: 76.70%, Lung Opacity: 80.65%, Normal: 91.83%, Viral Pneumonia: 84.82%)\n",
      "\t Testing results: Loss: 0.3047, Accuracy: 89.42% (COVID: 85.83%, Lung Opacity: 84.58%, Normal: 94.61%, Viral Pneumonia: 81.01%)\n",
      "**[Epoch 25]************************************************\n",
      "\tTraining results: Loss: 0.3524, Accuracy: 86.66% (COVID: 80.17%, Lung Opacity: 81.69%, Normal: 91.94%, Viral Pneumonia: 86.38%)\n",
      "\t Testing results: Loss: 0.3072, Accuracy: 88.61% (COVID: 87.21%, Lung Opacity: 87.40%, Normal: 90.21%, Viral Pneumonia: 85.66%)\n",
      "**[Epoch 30]************************************************\n",
      "\tTraining results: Loss: 0.3393, Accuracy: 87.04% (COVID: 80.62%, Lung Opacity: 81.88%, Normal: 92.33%, Viral Pneumonia: 87.30%)\n",
      "\t Testing results: Loss: 0.5021, Accuracy: 83.86% (COVID: 92.98%, Lung Opacity: 80.85%, Normal: 83.20%, Viral Pneumonia: 77.52%)\n",
      "**[Epoch 35]************************************************\n",
      "\tTraining results: Loss: 0.3213, Accuracy: 87.93% (COVID: 81.97%, Lung Opacity: 82.79%, Normal: 93.04%, Viral Pneumonia: 88.13%)\n",
      "\t Testing results: Loss: 0.2708, Accuracy: 90.34% (COVID: 87.07%, Lung Opacity: 87.98%, Normal: 93.19%, Viral Pneumonia: 87.98%)\n",
      "**[Epoch 40]************************************************\n",
      "\tTraining results: Loss: 0.3079, Accuracy: 88.45% (COVID: 82.45%, Lung Opacity: 84.62%, Normal: 92.83%, Viral Pneumonia: 88.50%)\n",
      "\t Testing results: Loss: 0.2723, Accuracy: 90.24% (COVID: 92.85%, Lung Opacity: 83.25%, Normal: 93.68%, Viral Pneumonia: 88.37%)\n",
      "**[Epoch 45]************************************************\n",
      "\tTraining results: Loss: 0.2936, Accuracy: 88.88% (COVID: 83.00%, Lung Opacity: 84.50%, Normal: 93.45%, Viral Pneumonia: 89.70%)\n",
      "\t Testing results: Loss: 0.7058, Accuracy: 76.21% (COVID: 70.70%, Lung Opacity: 96.02%, Normal: 65.62%, Viral Pneumonia: 82.95%)\n",
      "**[Epoch 50]************************************************\n",
      "\tTraining results: Loss: 0.2795, Accuracy: 89.37% (COVID: 85.19%, Lung Opacity: 84.64%, Normal: 93.64%, Viral Pneumonia: 89.33%)\n",
      "\t Testing results: Loss: 0.3725, Accuracy: 86.89% (COVID: 92.02%, Lung Opacity: 79.44%, Normal: 89.32%, Viral Pneumonia: 87.98%)\n",
      "Epochs terminados\n",
      "--- 2661.896742105484 seconds ---\n"
     ]
    },
    {
     "output_type": "display_data",
     "data": {
      "text/plain": "<IPython.core.display.HTML object>",
      "text/html": "<br/>Waiting for W&B process to finish, PID 40956<br/>Program ended successfully."
     },
     "metadata": {}
    },
    {
     "output_type": "display_data",
     "data": {
      "text/plain": "<IPython.core.display.HTML object>",
      "text/html": "Find user logs for this run at: <code>/home/pablo/Desktop/ML/Proyectos/Proyecto II/wandb/run-20210510_200937-27nj0esa/logs/debug.log</code>"
     },
     "metadata": {}
    },
    {
     "output_type": "display_data",
     "data": {
      "text/plain": "<IPython.core.display.HTML object>",
      "text/html": "Find internal logs for this run at: <code>/home/pablo/Desktop/ML/Proyectos/Proyecto II/wandb/run-20210510_200937-27nj0esa/logs/debug-internal.log</code>"
     },
     "metadata": {}
    },
    {
     "output_type": "display_data",
     "data": {
      "text/plain": "<IPython.core.display.HTML object>",
      "text/html": "<h3>Run summary:</h3><br/><style>\n    table.wandb td:nth-child(1) { padding: 0 10px; text-align: right }\n    </style><table class=\"wandb\">\n<tr><td>Loss (training)</td><td>0.2795</td></tr><tr><td>Accuracy (training)</td><td>0.89369</td></tr><tr><td>COVID accuracy (training)</td><td>0.85185</td></tr><tr><td>Lung Opacity accuracy (training)</td><td>0.84644</td></tr><tr><td>Normal accuracy (training)</td><td>0.93644</td></tr><tr><td>Viral Pneumonia accuracy (training)</td><td>0.89328</td></tr><tr><td>Loss (testing)</td><td>0.37248</td></tr><tr><td>Accuracy (testing)</td><td>0.86889</td></tr><tr><td>COVID accuracy (testing)</td><td>0.92022</td></tr><tr><td>Lung Opacity accuracy (testing)</td><td>0.79436</td></tr><tr><td>Normal accuracy (testing)</td><td>0.89324</td></tr><tr><td>Viral Pneumonia accuracy (testing)</td><td>0.87984</td></tr><tr><td>_runtime</td><td>2658</td></tr><tr><td>_timestamp</td><td>1620701635</td></tr><tr><td>_step</td><td>49</td></tr></table>"
     },
     "metadata": {}
    },
    {
     "output_type": "display_data",
     "data": {
      "text/plain": "<IPython.core.display.HTML object>",
      "text/html": "<h3>Run history:</h3><br/><style>\n    table.wandb td:nth-child(1) { padding: 0 10px; text-align: right }\n    </style><table class=\"wandb\">\n<tr><td>Loss (training)</td><td>█▆▅▅▄▄▃▃▃▃▃▂▂▂▂▂▂▂▂▂▂▂▂▂▂▂▁▁▁▁▁▁▁▁▁▁▁▁▁▁</td></tr><tr><td>Accuracy (training)</td><td>▁▃▄▅▅▆▆▆▆▆▆▇▇▇▇▇▇▇▇▇▇▇▇█▇███████████████</td></tr><tr><td>COVID accuracy (training)</td><td>▁▃▄▅▅▆▆▆▆▆▇▇▇▇▇▇▇▇▇▇█▇▇██▇██████████████</td></tr><tr><td>Lung Opacity accuracy (training)</td><td>▁▃▄▄▅▅▅▅▆▆▆▆▆▇▇▇▇▇▇▇▇▇█▇▇█████▇█████████</td></tr><tr><td>Normal accuracy (training)</td><td>▁▂▄▄▅▅▆▆▆▆▆▆▇▇▇▇▇▇▇▇▇▇▇▇▇▇█████▇████████</td></tr><tr><td>Viral Pneumonia accuracy (training)</td><td>▁▅▅▆▆▆▆▇▇▇▇▇▇▇▇▇██▇▇██▇█████████████████</td></tr><tr><td>Loss (testing)</td><td>█▂▂▂▅▂▂▂▄▂▂▁▁▁▁▂▁▁▁▃▂▁▁▃▁▂▁▁▁▁▅▁▁▁▁▁▁▁▁▁</td></tr><tr><td>Accuracy (testing)</td><td>▁▅▆▆▂▆▇▅▃▆▆█▇▇▇▇▇▇▇▆▇██▆▇▇▇▇██▂████▇███▇</td></tr><tr><td>COVID accuracy (testing)</td><td>▃▁▁▅▅▃▆▆▅▆▃▆▇▆█▄█▆▆▇▇▇▇█▆▄▆▇▆▇█▇▇▆▆▆██▇█</td></tr><tr><td>Lung Opacity accuracy (testing)</td><td>▂▆▅▅▁▆▇█▅▆▆▇▆█▅▆▇▄▆▆▇▆▇▄▇▆▇▅▇▇▆▇▇▇▇█▇▇▇▆</td></tr><tr><td>Normal accuracy (testing)</td><td>▄▇▇▇▅▇▇▅▄▆▇▇▇▇▇█▇██▅▆█▇▆▇█▇█▇▇▁▇███▇▇▇▇▇</td></tr><tr><td>Viral Pneumonia accuracy (testing)</td><td>▃▂▆▆▄█▆▇▆▇▁██▇▇▇▇▇▅▇▇▆▇▇▇▇▇▅█▇▇▇▇▇▇▆█▇█▇</td></tr><tr><td>_runtime</td><td>▁▁▁▁▂▂▂▂▂▃▃▃▃▃▃▄▄▄▄▄▅▅▅▅▅▅▆▆▆▆▆▆▇▇▇▇▇███</td></tr><tr><td>_timestamp</td><td>▁▁▁▁▂▂▂▂▂▃▃▃▃▃▃▄▄▄▄▄▅▅▅▅▅▅▆▆▆▆▆▆▇▇▇▇▇███</td></tr><tr><td>_step</td><td>▁▁▁▁▂▂▂▂▂▃▃▃▃▃▃▄▄▄▄▄▅▅▅▅▅▅▆▆▆▆▆▆▇▇▇▇▇███</td></tr></table><br/>"
     },
     "metadata": {}
    },
    {
     "output_type": "display_data",
     "data": {
      "text/plain": "<IPython.core.display.HTML object>",
      "text/html": "Synced 6 W&B file(s), 100 media file(s), 100 artifact file(s) and 0 other file(s)"
     },
     "metadata": {}
    },
    {
     "output_type": "display_data",
     "data": {
      "text/plain": "<IPython.core.display.HTML object>",
      "text/html": "\n                    <br/>Synced <strong style=\"color:#cdcd00\">BF (no pretrained)</strong>: <a href=\"https://wandb.ai/tecai/CNN/runs/27nj0esa\" target=\"_blank\">https://wandb.ai/tecai/CNN/runs/27nj0esa</a><br/>\n                "
     },
     "metadata": {}
    }
   ],
   "source": [
    "# Get the model.\n",
    "# Get a predefined model from pytorch, without the pretrained parameters.\n",
    "net = models.resnet34(pretrained=False)\n",
    "# Get the input size of the las layer of the model.\n",
    "llInputSize = net.fc.in_features\n",
    "# Modify the last layer of the model, to classify the amount of required classes.\n",
    "net.fc = nn.Linear(llInputSize, config[outputSize])\n",
    "# Load the model to the selected device.\n",
    "net.to(device)\n",
    "\n",
    "# Paths of data.\n",
    "dataPath = 'data/pp/bf'\n",
    "savePath = 'runs/bf(no_pretrained)'\n",
    "\n",
    "# Run name (for wanbd).\n",
    "runName = 'BF (no pretrained)'\n",
    "\n",
    "# Execute.\n",
    "executeTest(net, dataPath, runName, savePath)"
   ]
  },
  {
   "source": [
    "### Fifth experiment\n",
    "For the fifth experiment we are going to explore the performance of resnet34 with the parameters obatined in the third experiment (pretrained resnet34 on bilateral filter dataset) on the raw dataset (images without preprocessing)."
   ],
   "cell_type": "markdown",
   "metadata": {}
  },
  {
   "cell_type": "code",
   "execution_count": 21,
   "metadata": {},
   "outputs": [
    {
     "output_type": "display_data",
     "data": {
      "text/plain": "<IPython.core.display.HTML object>",
      "text/html": "\n                Tracking run with wandb version 0.10.30<br/>\n                Syncing run <strong style=\"color:#cdcd00\">Raw (BF)</strong> to <a href=\"https://wandb.ai\" target=\"_blank\">Weights & Biases</a> <a href=\"https://docs.wandb.com/integrations/jupyter.html\" target=\"_blank\">(Documentation)</a>.<br/>\n                Project page: <a href=\"https://wandb.ai/tecai/CNN\" target=\"_blank\">https://wandb.ai/tecai/CNN</a><br/>\n                Run page: <a href=\"https://wandb.ai/tecai/CNN/runs/33l9lvwj\" target=\"_blank\">https://wandb.ai/tecai/CNN/runs/33l9lvwj</a><br/>\n                Run data is saved locally in <code>/home/pablo/Desktop/ML/Proyectos/Proyecto II/wandb/run-20210510_213146-33l9lvwj</code><br/><br/>\n            "
     },
     "metadata": {}
    },
    {
     "output_type": "stream",
     "name": "stdout",
     "text": [
      "**[Epoch 5]************************************************\n",
      "\tTraining results: Loss: 0.1446, Accuracy: 94.81% (COVID: 94.91%, Lung Opacity: 91.49%, Normal: 96.64%, Viral Pneumonia: 95.49%)\n",
      "\t Testing results: Loss: 0.2013, Accuracy: 94.28% (COVID: 93.95%, Lung Opacity: 90.71%, Normal: 96.77%, Viral Pneumonia: 92.25%)\n",
      "**[Epoch 10]************************************************\n",
      "\tTraining results: Loss: 0.1084, Accuracy: 95.95% (COVID: 96.54%, Lung Opacity: 93.53%, Normal: 97.13%, Viral Pneumonia: 96.23%)\n",
      "\t Testing results: Loss: 0.1877, Accuracy: 94.64% (COVID: 96.70%, Lung Opacity: 91.79%, Normal: 95.74%, Viral Pneumonia: 93.41%)\n",
      "**[Epoch 15]************************************************\n",
      "\tTraining results: Loss: 0.0967, Accuracy: 96.39% (COVID: 97.33%, Lung Opacity: 93.74%, Normal: 97.52%, Viral Pneumonia: 97.06%)\n",
      "\t Testing results: Loss: 0.2286, Accuracy: 94.24% (COVID: 94.77%, Lung Opacity: 89.30%, Normal: 97.16%, Viral Pneumonia: 92.64%)\n",
      "**[Epoch 20]************************************************\n",
      "\tTraining results: Loss: 0.0883, Accuracy: 96.76% (COVID: 97.09%, Lung Opacity: 94.80%, Normal: 97.80%, Viral Pneumonia: 96.78%)\n",
      "\t Testing results: Loss: 0.2837, Accuracy: 93.50% (COVID: 92.71%, Lung Opacity: 88.89%, Normal: 96.67%, Viral Pneumonia: 92.25%)\n",
      "**[Epoch 25]************************************************\n",
      "\tTraining results: Loss: 0.0837, Accuracy: 96.97% (COVID: 97.44%, Lung Opacity: 95.13%, Normal: 97.82%, Viral Pneumonia: 97.52%)\n",
      "\t Testing results: Loss: 0.2303, Accuracy: 94.33% (COVID: 96.97%, Lung Opacity: 91.71%, Normal: 95.15%, Viral Pneumonia: 92.64%)\n",
      "**[Epoch 30]************************************************\n",
      "\tTraining results: Loss: 0.0711, Accuracy: 97.36% (COVID: 98.20%, Lung Opacity: 95.63%, Normal: 98.00%, Viral Pneumonia: 97.98%)\n",
      "\t Testing results: Loss: 0.2443, Accuracy: 94.45% (COVID: 95.87%, Lung Opacity: 92.95%, Normal: 94.91%, Viral Pneumonia: 93.80%)\n",
      "**[Epoch 35]************************************************\n",
      "\tTraining results: Loss: 0.0673, Accuracy: 97.47% (COVID: 98.10%, Lung Opacity: 96.07%, Normal: 98.02%, Viral Pneumonia: 97.88%)\n",
      "\t Testing results: Loss: 0.2665, Accuracy: 94.00% (COVID: 95.05%, Lung Opacity: 94.03%, Normal: 94.12%, Viral Pneumonia: 89.92%)\n",
      "**[Epoch 40]************************************************\n",
      "\tTraining results: Loss: 0.0625, Accuracy: 97.64% (COVID: 98.10%, Lung Opacity: 96.25%, Normal: 98.23%, Viral Pneumonia: 98.16%)\n",
      "\t Testing results: Loss: 0.2653, Accuracy: 94.47% (COVID: 96.15%, Lung Opacity: 92.79%, Normal: 95.20%, Viral Pneumonia: 91.86%)\n",
      "**[Epoch 45]************************************************\n",
      "\tTraining results: Loss: 0.0598, Accuracy: 97.84% (COVID: 98.58%, Lung Opacity: 96.30%, Normal: 98.42%, Viral Pneumonia: 98.34%)\n",
      "\t Testing results: Loss: 0.2650, Accuracy: 94.64% (COVID: 96.56%, Lung Opacity: 91.54%, Normal: 95.89%, Viral Pneumonia: 93.80%)\n",
      "**[Epoch 50]************************************************\n",
      "\tTraining results: Loss: 0.0598, Accuracy: 97.81% (COVID: 98.48%, Lung Opacity: 96.21%, Normal: 98.55%, Viral Pneumonia: 97.61%)\n",
      "\t Testing results: Loss: 0.2805, Accuracy: 93.93% (COVID: 97.25%, Lung Opacity: 94.03%, Normal: 92.85%, Viral Pneumonia: 92.64%)\n",
      "Epochs terminados\n",
      "--- 2804.0918254852295 seconds ---\n"
     ]
    },
    {
     "output_type": "display_data",
     "data": {
      "text/plain": "<IPython.core.display.HTML object>",
      "text/html": "<br/>Waiting for W&B process to finish, PID 47605<br/>Program ended successfully."
     },
     "metadata": {}
    },
    {
     "output_type": "display_data",
     "data": {
      "text/plain": "<IPython.core.display.HTML object>",
      "text/html": "Find user logs for this run at: <code>/home/pablo/Desktop/ML/Proyectos/Proyecto II/wandb/run-20210510_213146-33l9lvwj/logs/debug.log</code>"
     },
     "metadata": {}
    },
    {
     "output_type": "display_data",
     "data": {
      "text/plain": "<IPython.core.display.HTML object>",
      "text/html": "Find internal logs for this run at: <code>/home/pablo/Desktop/ML/Proyectos/Proyecto II/wandb/run-20210510_213146-33l9lvwj/logs/debug-internal.log</code>"
     },
     "metadata": {}
    },
    {
     "output_type": "display_data",
     "data": {
      "text/plain": "<IPython.core.display.HTML object>",
      "text/html": "<h3>Run summary:</h3><br/><style>\n    table.wandb td:nth-child(1) { padding: 0 10px; text-align: right }\n    </style><table class=\"wandb\">\n<tr><td>Loss (training)</td><td>0.05985</td></tr><tr><td>Accuracy (training)</td><td>0.97815</td></tr><tr><td>COVID accuracy (training)</td><td>0.98477</td></tr><tr><td>Lung Opacity accuracy (training)</td><td>0.96213</td></tr><tr><td>Normal accuracy (training)</td><td>0.98552</td></tr><tr><td>Viral Pneumonia accuracy (training)</td><td>0.97608</td></tr><tr><td>Loss (testing)</td><td>0.28047</td></tr><tr><td>Accuracy (testing)</td><td>0.93929</td></tr><tr><td>COVID accuracy (testing)</td><td>0.97249</td></tr><tr><td>Lung Opacity accuracy (testing)</td><td>0.9403</td></tr><tr><td>Normal accuracy (testing)</td><td>0.9285</td></tr><tr><td>Viral Pneumonia accuracy (testing)</td><td>0.92636</td></tr><tr><td>_runtime</td><td>2798</td></tr><tr><td>_timestamp</td><td>1620706704</td></tr><tr><td>_step</td><td>49</td></tr></table>"
     },
     "metadata": {}
    },
    {
     "output_type": "display_data",
     "data": {
      "text/plain": "<IPython.core.display.HTML object>",
      "text/html": "<h3>Run history:</h3><br/><style>\n    table.wandb td:nth-child(1) { padding: 0 10px; text-align: right }\n    </style><table class=\"wandb\">\n<tr><td>Loss (training)</td><td>█▅▄▄▃▃▃▂▂▂▂▂▂▂▂▂▂▂▁▂▂▁▁▂▁▁▁▁▁▁▁▁▁▁▁▁▁▁▁▁</td></tr><tr><td>Accuracy (training)</td><td>▁▄▅▅▆▆▆▆▇▇▇▇▇▇▇▇▇▇█▇▇███████████████████</td></tr><tr><td>COVID accuracy (training)</td><td>▁▅▆▆▆▇▇▇▇▇▇▇█▇▇▇▇███████████████████████</td></tr><tr><td>Lung Opacity accuracy (training)</td><td>▁▃▄▅▅▆▆▆▆▆▇▇▇▇▇▇▇▇█▇▇█▇▇▇▇██████████████</td></tr><tr><td>Normal accuracy (training)</td><td>▁▄▄▅▅▆▆▆▆▇▆▇▇▇▇▇▇▇▇▇▇▇▇█▇▇▇█▇▇███▇███▇▇█</td></tr><tr><td>Viral Pneumonia accuracy (training)</td><td>▁▄▆▆▆▆▆▇▇▇▇▇▇▇▇▇▇▇█▇███▇████████████████</td></tr><tr><td>Loss (testing)</td><td>▃▁▁▃▁▂▂▂▂▂▂▄▂▂▂▂▂▂▂█▂▂▃▃▃▂▃▃▃▃▃▃▃▃▃▃▃▃▃▃</td></tr><tr><td>Accuracy (testing)</td><td>▆▇▇▅█▇▇▆██▇▄█▇▇█▇██▁▇▇▇█▇▇▇▇█▇▇██▇▇█▇█▇▇</td></tr><tr><td>COVID accuracy (testing)</td><td>▆▇▇▁▇▆▅▇▆▇▅▆▇▆▆▇▇▇▆█▇▇▇▆▇▇▆▆▇▆▇▇▇█▇▇▇▇▇▇</td></tr><tr><td>Lung Opacity accuracy (testing)</td><td>▁▂▆▅▄▇▄▄▅▅▅█▄▅▆▅▆▅▆▃▅▅▅▆▅▅▅▅▃▆▅▅▅▅▆▆▅▆▆▇</td></tr><tr><td>Normal accuracy (testing)</td><td>██▇▆▇▆█▆█▇▇▃█▇▇▇▇▇▇▁▇▇▇▇▇▇▇▇█▇▇▇▇▆▆▇▇▇▇▆</td></tr><tr><td>Viral Pneumonia accuracy (testing)</td><td>▂▁▄▅▅▄▂▆▅▃▅▄▅▅▅▅▅▅▅▅▄█▃▅▄▅▄▂▄▅▄▄▄▅▅▅▄▅▅▅</td></tr><tr><td>_runtime</td><td>▁▁▁▁▂▂▂▂▂▃▃▃▃▃▃▄▄▄▄▄▅▅▅▅▅▅▆▆▆▆▆▆▇▇▇▇▇███</td></tr><tr><td>_timestamp</td><td>▁▁▁▁▂▂▂▂▂▃▃▃▃▃▃▄▄▄▄▄▅▅▅▅▅▅▆▆▆▆▆▆▇▇▇▇▇███</td></tr><tr><td>_step</td><td>▁▁▁▁▂▂▂▂▂▃▃▃▃▃▃▄▄▄▄▄▅▅▅▅▅▅▆▆▆▆▆▆▇▇▇▇▇███</td></tr></table><br/>"
     },
     "metadata": {}
    },
    {
     "output_type": "display_data",
     "data": {
      "text/plain": "<IPython.core.display.HTML object>",
      "text/html": "Synced 6 W&B file(s), 100 media file(s), 100 artifact file(s) and 0 other file(s)"
     },
     "metadata": {}
    },
    {
     "output_type": "display_data",
     "data": {
      "text/plain": "<IPython.core.display.HTML object>",
      "text/html": "\n                    <br/>Synced <strong style=\"color:#cdcd00\">Raw (BF)</strong>: <a href=\"https://wandb.ai/tecai/CNN/runs/33l9lvwj\" target=\"_blank\">https://wandb.ai/tecai/CNN/runs/33l9lvwj</a><br/>\n                "
     },
     "metadata": {}
    }
   ],
   "source": [
    "# Get the model.\n",
    "# Get a predefined model from pytorch, without the pretrained parameters.\n",
    "net = models.resnet34()\n",
    "# Get the input size of the las layer of the model.\n",
    "llInputSize = net.fc.in_features\n",
    "# Modify the last layer of the model, to classify the amount of required classes.\n",
    "net.fc = nn.Linear(llInputSize, config[outputSize])\n",
    "# Model path\n",
    "modelPath = 'models/bf(pretrained).pth'\n",
    "# Load model values from the bilateral filter model.\n",
    "bfPretrainedData = torch.load(modelPath)\n",
    "net.load_state_dict(checkpoint[_model])\n",
    "# Load the model to the selected device.\n",
    "net.to(device)\n",
    "\n",
    "# Paths of data.\n",
    "dataPath = 'data/pp/raw'\n",
    "savePath = 'runs/raw(bf)'\n",
    "\n",
    "# Run name (for wanbd).\n",
    "runName = 'Raw (BF)'\n",
    "\n",
    "# Execute.\n",
    "executeTest(net, dataPath, runName, savePath)"
   ]
  },
  {
   "source": [
    "### Sixth experiment\n",
    "For the Sixth experiment we are going to explore the performance of resnet34 with the parameters obtained in the first experiment (pretrained resnet34 on raw dataset) on the bilateral filter dataset (images without preprocessing)."
   ],
   "cell_type": "markdown",
   "metadata": {}
  },
  {
   "cell_type": "code",
   "execution_count": 22,
   "metadata": {},
   "outputs": [
    {
     "output_type": "display_data",
     "data": {
      "text/plain": "<IPython.core.display.HTML object>",
      "text/html": "\n                Tracking run with wandb version 0.10.30<br/>\n                Syncing run <strong style=\"color:#cdcd00\">BF (raw)</strong> to <a href=\"https://wandb.ai\" target=\"_blank\">Weights & Biases</a> <a href=\"https://docs.wandb.com/integrations/jupyter.html\" target=\"_blank\">(Documentation)</a>.<br/>\n                Project page: <a href=\"https://wandb.ai/tecai/CNN\" target=\"_blank\">https://wandb.ai/tecai/CNN</a><br/>\n                Run page: <a href=\"https://wandb.ai/tecai/CNN/runs/21qpzaoo\" target=\"_blank\">https://wandb.ai/tecai/CNN/runs/21qpzaoo</a><br/>\n                Run data is saved locally in <code>/home/pablo/Desktop/ML/Proyectos/Proyecto II/wandb/run-20210510_221859-21qpzaoo</code><br/><br/>\n            "
     },
     "metadata": {}
    },
    {
     "output_type": "stream",
     "name": "stdout",
     "text": [
      "**[Epoch 5]************************************************\n",
      "\tTraining results: Loss: 0.1517, Accuracy: 94.28% (COVID: 93.49%, Lung Opacity: 91.49%, Normal: 96.10%, Viral Pneumonia: 95.03%)\n",
      "\t Testing results: Loss: 0.2107, Accuracy: 93.27% (COVID: 96.15%, Lung Opacity: 89.72%, Normal: 94.42%, Viral Pneumonia: 92.64%)\n",
      "**[Epoch 10]************************************************\n",
      "\tTraining results: Loss: 0.1246, Accuracy: 95.30% (COVID: 94.29%, Lung Opacity: 92.74%, Normal: 97.12%, Viral Pneumonia: 95.68%)\n",
      "\t Testing results: Loss: 0.2421, Accuracy: 92.58% (COVID: 97.25%, Lung Opacity: 90.63%, Normal: 92.31%, Viral Pneumonia: 90.70%)\n",
      "**[Epoch 15]************************************************\n",
      "\tTraining results: Loss: 0.1146, Accuracy: 95.71% (COVID: 95.64%, Lung Opacity: 93.22%, Normal: 97.10%, Viral Pneumonia: 96.41%)\n",
      "\t Testing results: Loss: 0.2498, Accuracy: 92.94% (COVID: 96.29%, Lung Opacity: 90.38%, Normal: 93.39%, Viral Pneumonia: 91.86%)\n",
      "**[Epoch 20]************************************************\n",
      "\tTraining results: Loss: 0.0924, Accuracy: 96.59% (COVID: 95.95%, Lung Opacity: 94.67%, Normal: 97.73%, Viral Pneumonia: 98.16%)\n",
      "\t Testing results: Loss: 0.3081, Accuracy: 93.22% (COVID: 95.46%, Lung Opacity: 88.97%, Normal: 95.15%, Viral Pneumonia: 91.47%)\n",
      "**[Epoch 25]************************************************\n",
      "\tTraining results: Loss: 0.0909, Accuracy: 96.47% (COVID: 96.64%, Lung Opacity: 94.22%, Normal: 97.63%, Viral Pneumonia: 97.24%)\n",
      "\t Testing results: Loss: 0.2926, Accuracy: 93.55% (COVID: 96.70%, Lung Opacity: 89.22%, Normal: 94.76%, Viral Pneumonia: 95.35%)\n",
      "**[Epoch 30]************************************************\n",
      "\tTraining results: Loss: 0.0853, Accuracy: 96.84% (COVID: 96.50%, Lung Opacity: 94.90%, Normal: 97.95%, Viral Pneumonia: 97.98%)\n",
      "\t Testing results: Loss: 0.2832, Accuracy: 93.48% (COVID: 95.46%, Lung Opacity: 89.88%, Normal: 95.10%, Viral Pneumonia: 91.86%)\n",
      "**[Epoch 35]************************************************\n",
      "\tTraining results: Loss: 0.0835, Accuracy: 96.96% (COVID: 96.30%, Lung Opacity: 95.44%, Normal: 98.04%, Viral Pneumonia: 97.42%)\n",
      "\t Testing results: Loss: 0.3062, Accuracy: 93.67% (COVID: 96.56%, Lung Opacity: 89.55%, Normal: 95.35%, Viral Pneumonia: 91.47%)\n",
      "**[Epoch 40]************************************************\n",
      "\tTraining results: Loss: 0.0765, Accuracy: 97.10% (COVID: 96.64%, Lung Opacity: 95.78%, Normal: 97.93%, Viral Pneumonia: 97.98%)\n",
      "\t Testing results: Loss: 0.2940, Accuracy: 93.72% (COVID: 96.42%, Lung Opacity: 89.39%, Normal: 95.35%, Viral Pneumonia: 93.41%)\n",
      "**[Epoch 45]************************************************\n",
      "\tTraining results: Loss: 0.0705, Accuracy: 97.37% (COVID: 97.37%, Lung Opacity: 95.88%, Normal: 98.21%, Viral Pneumonia: 97.70%)\n",
      "\t Testing results: Loss: 0.2908, Accuracy: 93.86% (COVID: 96.97%, Lung Opacity: 90.46%, Normal: 94.81%, Viral Pneumonia: 93.41%)\n",
      "**[Epoch 50]************************************************\n",
      "\tTraining results: Loss: 0.0756, Accuracy: 97.28% (COVID: 97.02%, Lung Opacity: 95.96%, Normal: 98.09%, Viral Pneumonia: 97.79%)\n",
      "\t Testing results: Loss: 0.3100, Accuracy: 93.46% (COVID: 95.19%, Lung Opacity: 91.87%, Normal: 93.93%, Viral Pneumonia: 92.25%)\n",
      "Epochs terminados\n",
      "--- 2836.054407596588 seconds ---\n"
     ]
    },
    {
     "output_type": "display_data",
     "data": {
      "text/plain": "<IPython.core.display.HTML object>",
      "text/html": "<br/>Waiting for W&B process to finish, PID 52560<br/>Program ended successfully."
     },
     "metadata": {}
    },
    {
     "output_type": "display_data",
     "data": {
      "text/plain": "<IPython.core.display.HTML object>",
      "text/html": "Find user logs for this run at: <code>/home/pablo/Desktop/ML/Proyectos/Proyecto II/wandb/run-20210510_221859-21qpzaoo/logs/debug.log</code>"
     },
     "metadata": {}
    },
    {
     "output_type": "display_data",
     "data": {
      "text/plain": "<IPython.core.display.HTML object>",
      "text/html": "Find internal logs for this run at: <code>/home/pablo/Desktop/ML/Proyectos/Proyecto II/wandb/run-20210510_221859-21qpzaoo/logs/debug-internal.log</code>"
     },
     "metadata": {}
    },
    {
     "output_type": "display_data",
     "data": {
      "text/plain": "<IPython.core.display.HTML object>",
      "text/html": "<h3>Run summary:</h3><br/><style>\n    table.wandb td:nth-child(1) { padding: 0 10px; text-align: right }\n    </style><table class=\"wandb\">\n<tr><td>Loss (training)</td><td>0.07558</td></tr><tr><td>Accuracy (training)</td><td>0.97283</td></tr><tr><td>COVID accuracy (training)</td><td>0.97023</td></tr><tr><td>Lung Opacity accuracy (training)</td><td>0.95963</td></tr><tr><td>Normal accuracy (training)</td><td>0.98086</td></tr><tr><td>Viral Pneumonia accuracy (training)</td><td>0.97792</td></tr><tr><td>Loss (testing)</td><td>0.31003</td></tr><tr><td>Accuracy (testing)</td><td>0.93456</td></tr><tr><td>COVID accuracy (testing)</td><td>0.95186</td></tr><tr><td>Lung Opacity accuracy (testing)</td><td>0.91874</td></tr><tr><td>Normal accuracy (testing)</td><td>0.93928</td></tr><tr><td>Viral Pneumonia accuracy (testing)</td><td>0.92248</td></tr><tr><td>_runtime</td><td>2829</td></tr><tr><td>_timestamp</td><td>1620709568</td></tr><tr><td>_step</td><td>49</td></tr></table>"
     },
     "metadata": {}
    },
    {
     "output_type": "display_data",
     "data": {
      "text/plain": "<IPython.core.display.HTML object>",
      "text/html": "<h3>Run history:</h3><br/><style>\n    table.wandb td:nth-child(1) { padding: 0 10px; text-align: right }\n    </style><table class=\"wandb\">\n<tr><td>Loss (training)</td><td>█▄▄▃▃▃▂▂▂▂▂▂▂▂▂▂▂▂▁▂▁▁▁▁▁▁▁▁▁▁▁▁▁▁▁▁▁▁▁▁</td></tr><tr><td>Accuracy (training)</td><td>▁▄▅▆▆▆▇▆▇▇▇▇▇▇▇▇▇▇▇▇████████████████████</td></tr><tr><td>COVID accuracy (training)</td><td>▁▅▆▆▇▇▇▇▇▇▇▇▇██▇▇██▇████████████████████</td></tr><tr><td>Lung Opacity accuracy (training)</td><td>▁▄▅▅▆▆▆▆▆▇▇▇▇▇▇▇▇▇▇▇▇██▇█████▇██████████</td></tr><tr><td>Normal accuracy (training)</td><td>▁▄▅▆▆▆▆▆▇▇▇▇▇▇▇▇▇▇▇▇▇█▇████▇████████████</td></tr><tr><td>Viral Pneumonia accuracy (training)</td><td>▁▄▅▆▆▆▇▇▇▇▇▇▇▇▇▇▇▇▇▇▇▇▇▇█▇▇▇███▇▇█▇▇███▇</td></tr><tr><td>Loss (testing)</td><td>▁▁▃▁▁▁▁▂▁▂▂█▁▂▂▂▂▂▂▂▂▂▂▂▂▂▂▂▂▂▂▂▂▂▂▂▂▂▂▂</td></tr><tr><td>Accuracy (testing)</td><td>▇▇▄▇▇▇▇▇▇▆▇▁█▇▇▇▇█▇█▇▇████▇████████▇████</td></tr><tr><td>COVID accuracy (testing)</td><td>▁▄▂▆▇▆█▅▇▇▆▆▇▅▆▆▃▇▄▆▇▇▆█▇▇▆█▇▇█▇▇▇▇▇█▇▇▇</td></tr><tr><td>Lung Opacity accuracy (testing)</td><td>▄▅▄▁▂▃▄▄▅▆▆█▅▅▄▄▃▅▆▄▆▆▄▄▄▃▅▄▅▄▄▃▅▄▄▄▄▄▄▅</td></tr><tr><td>Normal accuracy (testing)</td><td>▇▇▇█▇▇▇▇▆▅▆▁▇▇▇▇▇▇▆▇▆▆▇▇▇▇▇▇▇▇▇▇▇▇▇▇▇▇▇▇</td></tr><tr><td>Viral Pneumonia accuracy (testing)</td><td>▇█▁▆▇▇▇▇▇█▇▇▇▇▇▇▇▇▇▇▇▇▇█▇▇▇▇▇▇▇▇▇▇▇▇▇▇▇▇</td></tr><tr><td>_runtime</td><td>▁▁▁▁▂▂▂▂▂▃▃▃▃▃▃▄▄▄▄▄▅▅▅▅▅▅▆▆▆▆▆▆▇▇▇▇▇███</td></tr><tr><td>_timestamp</td><td>▁▁▁▁▂▂▂▂▂▃▃▃▃▃▃▄▄▄▄▄▅▅▅▅▅▅▆▆▆▆▆▆▇▇▇▇▇███</td></tr><tr><td>_step</td><td>▁▁▁▁▂▂▂▂▂▃▃▃▃▃▃▄▄▄▄▄▅▅▅▅▅▅▆▆▆▆▆▆▇▇▇▇▇███</td></tr></table><br/>"
     },
     "metadata": {}
    },
    {
     "output_type": "display_data",
     "data": {
      "text/plain": "<IPython.core.display.HTML object>",
      "text/html": "Synced 6 W&B file(s), 100 media file(s), 100 artifact file(s) and 0 other file(s)"
     },
     "metadata": {}
    },
    {
     "output_type": "display_data",
     "data": {
      "text/plain": "<IPython.core.display.HTML object>",
      "text/html": "\n                    <br/>Synced <strong style=\"color:#cdcd00\">BF (raw)</strong>: <a href=\"https://wandb.ai/tecai/CNN/runs/21qpzaoo\" target=\"_blank\">https://wandb.ai/tecai/CNN/runs/21qpzaoo</a><br/>\n                "
     },
     "metadata": {}
    }
   ],
   "source": [
    "# Get the model.\n",
    "# Get a predefined model from pytorch, without the pretrained parameters.\n",
    "net = models.resnet34()\n",
    "# Get the input size of the las layer of the model.\n",
    "llInputSize = net.fc.in_features\n",
    "# Modify the last layer of the model, to classify the amount of required classes.\n",
    "net.fc = nn.Linear(llInputSize, config[outputSize])\n",
    "# Model path\n",
    "modelPath = 'models/raw(pretrained).pth'\n",
    "# Load model values from the bilateral filter model.\n",
    "bfPretrainedData = torch.load(modelPath)\n",
    "net.load_state_dict(checkpoint[_model])\n",
    "# Load the model to the selected device.\n",
    "net.to(device)\n",
    "\n",
    "# Paths of data.\n",
    "dataPath = 'data/pp/bf'\n",
    "savePath = 'runs/bf(raw)'\n",
    "\n",
    "# Run name (for wanbd).\n",
    "runName = 'BF (raw)'\n",
    "\n",
    "# Execute.\n",
    "executeTest(net, dataPath, runName, savePath)"
   ]
  }
 ]
}